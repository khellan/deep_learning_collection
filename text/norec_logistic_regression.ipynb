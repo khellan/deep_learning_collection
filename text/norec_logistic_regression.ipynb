{
 "cells": [
  {
   "cell_type": "code",
   "execution_count": 1,
   "metadata": {},
   "outputs": [],
   "source": [
    "from pathlib import Path\n",
    "\n",
    "import pandas as pd\n",
    "from sklearn.metrics import classification_report\n",
    "from sklearn.feature_extraction.text import CountVectorizer\n",
    "from sklearn.linear_model import LogisticRegression\n",
    "from spacy.lang.nb.stop_words import STOP_WORDS\n",
    "import xgboost as xgb\n"
   ]
  },
  {
   "cell_type": "code",
   "execution_count": 2,
   "metadata": {},
   "outputs": [],
   "source": [
    "SAVE_PATH = Path('model')\n",
    "SAVE_PATH.mkdir(exist_ok=True)\n",
    "DATA_PATH = Path('../data/norec')"
   ]
  },
  {
   "cell_type": "code",
   "execution_count": 3,
   "metadata": {},
   "outputs": [],
   "source": [
    "subset_names = ['train', 'test', 'dev']\n",
    "subsets = {name: pd.read_pickle(DATA_PATH / f'norsk_kategori_{name}.pkl') for name in subset_names}"
   ]
  },
  {
   "cell_type": "code",
   "execution_count": 4,
   "metadata": {},
   "outputs": [],
   "source": [
    "text = subsets['train'].iloc[0]['text']"
   ]
  },
  {
   "cell_type": "code",
   "execution_count": 5,
   "metadata": {},
   "outputs": [
    {
     "output_type": "execute_result",
     "data": {
      "text/plain": [
       "\"Franz Ferdinand :\\n« You Could Have It So Much Better »\\n( Domino Recording )\\nHøsten blir mye bedre med Franz Ferdinand .\\nDet var vanskelig å forestille seg at Franz Ferdinand , etter å ha stått bak et av fjorårets mest energiske og hit-spekkede debutalbum , kunne klare å overgå seg selv på oppfølgeren .\\nMen de fire postpønkglade kunststudentene fra Glasgow fornekter seg ikke .\\nPå « You Could Have It So Much Better » har de ikke bare forbedret låtskriverferdighetene sine , men de har også et mye mer variert uttrykk enn tidligere .\\nFortsatt er det de allsang- og dansedikterende låtbombene som råder , anført av den uimotståelige singlen « Do You Want To » .\\nMen mens de tidligere først og fremst var ute etter å fenge , virker det som om Alex Kapranos & Co. denne gangen har lagt mer jobb i selve oppbyggingen av låtene , noe åpningen « The Fallen » og den mangedelte « I'm Your Villain » ( med et nesten like hektende riff som « Take Me Out » -signaturen ) er gode eksempler på .\\nSkottene har tydeligvis også tatt lærdom av oksen Ferdinand siden sist .\\nDen pianodrevne « Fade Together » er både « lugn och skön » , og i den beatlesaktige balladen « Eleanor Put Your Boots On » forstår vi at også FF har en viss interesse for blomster og bier .\\n\""
      ]
     },
     "metadata": {},
     "execution_count": 5
    }
   ],
   "source": [
    "text"
   ]
  },
  {
   "source": [
    "We need to check if the training set is balanced. Grouping by rating and counting the number of samples with each value should do the trick."
   ],
   "cell_type": "markdown",
   "metadata": {}
  },
  {
   "cell_type": "code",
   "execution_count": 6,
   "metadata": {},
   "outputs": [
    {
     "output_type": "execute_result",
     "data": {
      "text/plain": [
       "         text\n",
       "rating       \n",
       "0        2681\n",
       "1       14821"
      ],
      "text/html": "<div>\n<style scoped>\n    .dataframe tbody tr th:only-of-type {\n        vertical-align: middle;\n    }\n\n    .dataframe tbody tr th {\n        vertical-align: top;\n    }\n\n    .dataframe thead th {\n        text-align: right;\n    }\n</style>\n<table border=\"1\" class=\"dataframe\">\n  <thead>\n    <tr style=\"text-align: right;\">\n      <th></th>\n      <th>text</th>\n    </tr>\n    <tr>\n      <th>rating</th>\n      <th></th>\n    </tr>\n  </thead>\n  <tbody>\n    <tr>\n      <th>0</th>\n      <td>2681</td>\n    </tr>\n    <tr>\n      <th>1</th>\n      <td>14821</td>\n    </tr>\n  </tbody>\n</table>\n</div>"
     },
     "metadata": {},
     "execution_count": 6
    }
   ],
   "source": [
    "subsets['train'].groupby(['rating']).count()"
   ]
  },
  {
   "source": [
    "So the training set is imbalanced. We need to be aware of this and potentially correct it."
   ],
   "cell_type": "markdown",
   "metadata": {}
  },
  {
   "source": [
    "We'll create a vectorizer that will keep words with a document frequency between 5 and 1000, but no more than 10000 terms."
   ],
   "cell_type": "markdown",
   "metadata": {}
  },
  {
   "cell_type": "code",
   "execution_count": 7,
   "metadata": {},
   "outputs": [
    {
     "output_type": "execute_result",
     "data": {
      "text/plain": [
       "<17502x10000 sparse matrix of type '<class 'numpy.int64'>'\n",
       "\twith 1560406 stored elements in Compressed Sparse Row format>"
      ]
     },
     "metadata": {},
     "execution_count": 7
    }
   ],
   "source": [
    "vectorizer = CountVectorizer(stop_words=STOP_WORDS, min_df=5, max_df=1000, max_features=10000)\n",
    "vectorizer.fit_transform(subsets['train']['text'])"
   ]
  },
  {
   "cell_type": "code",
   "execution_count": 8,
   "metadata": {},
   "outputs": [
    {
     "output_type": "execute_result",
     "data": {
      "text/plain": [
       "['00', '000', '08', '10', '100', '1000', '1080', '1080p', '11', '110']"
      ]
     },
     "metadata": {},
     "execution_count": 8
    }
   ],
   "source": [
    "vectorizer.get_feature_names()[:10]"
   ]
  },
  {
   "cell_type": "code",
   "execution_count": 9,
   "metadata": {},
   "outputs": [
    {
     "output_type": "execute_result",
     "data": {
      "text/plain": [
       "10000"
      ]
     },
     "metadata": {},
     "execution_count": 9
    }
   ],
   "source": [
    "len(vectorizer.get_feature_names())"
   ]
  },
  {
   "cell_type": "code",
   "execution_count": 10,
   "metadata": {},
   "outputs": [],
   "source": [
    "texts = {name: vectorizer.transform(subsets[name]['text']) for name in subset_names}\n",
    "categories = {name: subsets[name]['rating'] for name in subset_names}"
   ]
  },
  {
   "cell_type": "code",
   "execution_count": 11,
   "metadata": {},
   "outputs": [
    {
     "output_type": "stream",
     "name": "stdout",
     "text": [
      "Training metrics\n              precision    recall  f1-score   support\n\n           0       1.00      1.00      1.00      2681\n           1       1.00      1.00      1.00     14821\n\n    accuracy                           1.00     17502\n   macro avg       1.00      1.00      1.00     17502\nweighted avg       1.00      1.00      1.00     17502\n\nDevelopment metrics\n              precision    recall  f1-score   support\n\n           0       0.77      0.68      0.72       276\n           1       0.96      0.97      0.96      1963\n\n    accuracy                           0.94      2239\n   macro avg       0.86      0.82      0.84      2239\nweighted avg       0.93      0.94      0.93      2239\n\n"
     ]
    }
   ],
   "source": [
    "lr_model = LogisticRegression()\n",
    "lr_model.fit(texts['train'], categories['train'])\n",
    "print('Training metrics')\n",
    "print(classification_report(categories['train'], lr_model.predict(texts['train'])))\n",
    "print('Development metrics')\n",
    "print(classification_report(categories['dev'], lr_model.predict(texts['dev'])))"
   ]
  },
  {
   "source": [
    "That's our baseline. With imbalanced training data, we end up with an F1 score of 72% and 96% for 0 (low) and 1 (high) respectively."
   ],
   "cell_type": "markdown",
   "metadata": {}
  },
  {
   "cell_type": "code",
   "execution_count": 12,
   "metadata": {},
   "outputs": [
    {
     "output_type": "stream",
     "name": "stdout",
     "text": [
      "Training metrics\n              precision    recall  f1-score   support\n\n           0       1.00      1.00      1.00      2681\n           1       1.00      1.00      1.00     14821\n\n    accuracy                           1.00     17502\n   macro avg       1.00      1.00      1.00     17502\nweighted avg       1.00      1.00      1.00     17502\n\nDevelopment metrics\n              precision    recall  f1-score   support\n\n           0       0.67      0.76      0.71       276\n           1       0.97      0.95      0.96      1963\n\n    accuracy                           0.92      2239\n   macro avg       0.82      0.85      0.83      2239\nweighted avg       0.93      0.92      0.93      2239\n\n"
     ]
    }
   ],
   "source": [
    "lr_model = LogisticRegression(class_weight='balanced')\n",
    "lr_model.fit(texts['train'], categories['train'])\n",
    "print('Training metrics')\n",
    "print(classification_report(categories['train'], lr_model.predict(texts['train'])))\n",
    "print('Development metrics')\n",
    "print(classification_report(categories['dev'], lr_model.predict(texts['dev'])))"
   ]
  },
  {
   "source": [
    "That's surprising. The expected effect was slightly worse performance for the 1-class and better for the 0-class. There is not much change here, but the result for the 0-class did not improve."
   ],
   "cell_type": "markdown",
   "metadata": {}
  },
  {
   "cell_type": "code",
   "execution_count": 13,
   "metadata": {},
   "outputs": [
    {
     "output_type": "execute_result",
     "data": {
      "text/plain": [
       "{0: 1.0, 1: 0.18089197759935227}"
      ]
     },
     "metadata": {},
     "execution_count": 13
    }
   ],
   "source": [
    "class_weights = subsets['train'].groupby(['rating']).count()['text']\n",
    "class_weights = {i: min(class_weights) / class_weight for i, class_weight in enumerate(class_weights)}\n",
    "class_weights"
   ]
  },
  {
   "cell_type": "code",
   "execution_count": 14,
   "metadata": {},
   "outputs": [
    {
     "output_type": "stream",
     "name": "stdout",
     "text": [
      "Training metrics\n              precision    recall  f1-score   support\n\n           0       0.97      1.00      0.98      2681\n           1       1.00      0.99      1.00     14821\n\n    accuracy                           1.00     17502\n   macro avg       0.98      1.00      0.99     17502\nweighted avg       1.00      1.00      1.00     17502\n\nDevelopment metrics\n              precision    recall  f1-score   support\n\n           0       0.67      0.78      0.72       276\n           1       0.97      0.94      0.96      1963\n\n    accuracy                           0.92      2239\n   macro avg       0.82      0.86      0.84      2239\nweighted avg       0.93      0.92      0.93      2239\n\n"
     ]
    }
   ],
   "source": [
    "lr_model = LogisticRegression(class_weight=class_weights)\n",
    "lr_model.fit(texts['train'], categories['train'])\n",
    "print('Training metrics')\n",
    "print(classification_report(categories['train'], lr_model.predict(texts['train'])))\n",
    "print('Development metrics')\n",
    "print(classification_report(categories['dev'], lr_model.predict(texts['dev'])))"
   ]
  },
  {
   "source": [
    "The conclusion is that the performance is not affected much by the class imbalance."
   ],
   "cell_type": "markdown",
   "metadata": {}
  },
  {
   "cell_type": "code",
   "execution_count": 15,
   "metadata": {},
   "outputs": [
    {
     "output_type": "stream",
     "name": "stdout",
     "text": [
      "Training metrics\n              precision    recall  f1-score   support\n\n           0       0.50      0.89      0.64      2681\n           1       0.98      0.84      0.90     14821\n\n    accuracy                           0.85     17502\n   macro avg       0.74      0.87      0.77     17502\nweighted avg       0.90      0.85      0.86     17502\n\nDevelopment metrics\n              precision    recall  f1-score   support\n\n           0       0.43      0.76      0.55       276\n           1       0.96      0.86      0.91      1963\n\n    accuracy                           0.85      2239\n   macro avg       0.70      0.81      0.73      2239\nweighted avg       0.90      0.85      0.86      2239\n\n"
     ]
    }
   ],
   "source": [
    "vectorizer = CountVectorizer(stop_words=STOP_WORDS, min_df=5, max_df=1000, max_features=1000)\n",
    "vectorizer.fit_transform(subsets['train']['text'])\n",
    "len(vectorizer.get_feature_names())\n",
    "texts = {name: vectorizer.transform(subsets[name]['text']) for name in subset_names}\n",
    "categories = {name: subsets[name]['rating'] for name in subset_names}\n",
    "lr_model = LogisticRegression(class_weight='balanced')\n",
    "lr_model.fit(texts['train'], categories['train'])\n",
    "print('Training metrics')\n",
    "print(classification_report(categories['train'], lr_model.predict(texts['train'])))\n",
    "print('Development metrics')\n",
    "print(classification_report(categories['dev'], lr_model.predict(texts['dev'])))"
   ]
  },
  {
   "cell_type": "code",
   "execution_count": 16,
   "metadata": {},
   "outputs": [
    {
     "output_type": "stream",
     "name": "stdout",
     "text": [
      "Using 50000 features\n",
      "Training metrics\n",
      "              precision    recall  f1-score   support\n",
      "\n",
      "           0       1.00      1.00      1.00      2681\n",
      "           1       1.00      1.00      1.00     14821\n",
      "\n",
      "    accuracy                           1.00     17502\n",
      "   macro avg       1.00      1.00      1.00     17502\n",
      "weighted avg       1.00      1.00      1.00     17502\n",
      "\n",
      "Development metrics\n",
      "              precision    recall  f1-score   support\n",
      "\n",
      "           0       0.82      0.78      0.80       276\n",
      "           1       0.97      0.98      0.97      1963\n",
      "\n",
      "    accuracy                           0.95      2239\n",
      "   macro avg       0.90      0.88      0.89      2239\n",
      "weighted avg       0.95      0.95      0.95      2239\n",
      "\n"
     ]
    }
   ],
   "source": [
    "vectorizer = CountVectorizer(stop_words=STOP_WORDS, min_df=5, max_df=1000, max_features=50000)\n",
    "vectorizer.fit_transform(subsets['train']['text'])\n",
    "print(f'Using {len(vectorizer.get_feature_names())} features')\n",
    "texts = {name: vectorizer.transform(subsets[name]['text']) for name in subset_names}\n",
    "categories = {name: subsets[name]['rating'] for name in subset_names}\n",
    "lr_model = LogisticRegression(class_weight='balanced')\n",
    "lr_model.fit(texts['train'], categories['train'])\n",
    "print('Training metrics')\n",
    "print(classification_report(categories['train'], lr_model.predict(texts['train'])))\n",
    "print('Development metrics')\n",
    "print(classification_report(categories['dev'], lr_model.predict(texts['dev'])))"
   ]
  },
  {
   "source": [
    "Looks like all versions are overfitting excpet the one with 1000 features, but the 50000 features still seem to do better on the dev set."
   ],
   "cell_type": "markdown",
   "metadata": {}
  },
  {
   "cell_type": "code",
   "execution_count": 23,
   "metadata": {},
   "outputs": [
    {
     "output_type": "stream",
     "name": "stdout",
     "text": [
      "Training metrics\n              precision    recall  f1-score   support\n\n           0       0.95      1.00      0.97      2681\n           1       1.00      0.99      0.99     14821\n\n    accuracy                           0.99     17502\n   macro avg       0.97      0.99      0.98     17502\nweighted avg       0.99      0.99      0.99     17502\n\nDevelopment metrics\n              precision    recall  f1-score   support\n\n           0       0.59      0.72      0.65       276\n           1       0.96      0.93      0.94      1963\n\n    accuracy                           0.90      2239\n   macro avg       0.77      0.82      0.79      2239\nweighted avg       0.91      0.90      0.91      2239\n\n"
     ]
    }
   ],
   "source": [
    "vectorizer = CountVectorizer(stop_words=STOP_WORDS, min_df=5, max_df=1000, max_features=5000)\n",
    "vectorizer.fit_transform(subsets['train']['text'])\n",
    "len(vectorizer.get_feature_names())\n",
    "texts = {name: vectorizer.transform(subsets[name]['text']) for name in subset_names}\n",
    "categories = {name: subsets[name]['rating'] for name in subset_names}\n",
    "lr_model = LogisticRegression(class_weight='balanced')\n",
    "lr_model.fit(texts['train'], categories['train'])\n",
    "print('Training metrics')\n",
    "print(classification_report(categories['train'], lr_model.predict(texts['train'])))\n",
    "print('Development metrics')\n",
    "print(classification_report(categories['dev'], lr_model.predict(texts['dev'])))"
   ]
  },
  {
   "source": [
    "Some interesting results. If you understand what's happening, it's time to move over to the XGBoost variants."
   ],
   "cell_type": "markdown",
   "metadata": {}
  }
 ],
 "metadata": {
  "kernelspec": {
   "name": "Python 3.7.3 64-bit ('deep_learning_collection': pipenv)",
   "display_name": "Python 3.7.3 64-bit ('deep_learning_collection': pipenv)",
   "metadata": {
    "interpreter": {
     "hash": "d92844540fe13262bb242a6faf429a5b749608c1513ec7cab19bce2d7750c60f"
    }
   }
  },
  "language_info": {
   "codemirror_mode": {
    "name": "ipython",
    "version": 3
   },
   "file_extension": ".py",
   "mimetype": "text/x-python",
   "name": "python",
   "nbconvert_exporter": "python",
   "pygments_lexer": "ipython3",
   "version": "3.7.3-final"
  }
 },
 "nbformat": 4,
 "nbformat_minor": 4
}