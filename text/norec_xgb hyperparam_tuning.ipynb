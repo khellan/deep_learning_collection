{
 "cells": [
  {
   "cell_type": "code",
   "execution_count": 1,
   "metadata": {},
   "outputs": [],
   "source": [
    "from pathlib import Path\n",
    "\n",
    "import pandas as pd\n",
    "from sklearn.metrics import classification_report\n",
    "from sklearn.feature_extraction.text import CountVectorizer\n",
    "from sklearn.model_selection import GridSearchCV\n",
    "from spacy.lang.nb.stop_words import STOP_WORDS\n",
    "import xgboost as xgb"
   ]
  },
  {
   "cell_type": "code",
   "execution_count": 2,
   "metadata": {},
   "outputs": [],
   "source": [
    "SAVE_PATH = Path('model')\n",
    "SAVE_PATH.mkdir(exist_ok=True)\n",
    "DATA_PATH = Path('../data/norec')"
   ]
  },
  {
   "cell_type": "code",
   "execution_count": 3,
   "metadata": {},
   "outputs": [],
   "source": [
    "subset_names = ['train', 'test', 'dev']\n",
    "subsets = {name: pd.read_pickle(DATA_PATH / f'norsk_kategori_{name}.pkl') for name in subset_names}"
   ]
  },
  {
   "cell_type": "code",
   "execution_count": 4,
   "metadata": {},
   "outputs": [],
   "source": [
    "text = subsets['train'].iloc[0]['text']"
   ]
  },
  {
   "cell_type": "code",
   "execution_count": 5,
   "metadata": {},
   "outputs": [
    {
     "output_type": "execute_result",
     "data": {
      "text/plain": [
       "\"«Poison». Som alle store artister passer Timberlake på å synliggjøre hvor han kommer fra musikalsk.. Derav denne relativt obskure new jack swing-saken fra Bell Biv DeVoe, gruppen som ble til New Edition og som sådan forløpere til N'Sync.. Fenomenalt frekk låt som skreddersydd for Justin.\""
      ]
     },
     "metadata": {},
     "execution_count": 5
    }
   ],
   "source": [
    "text"
   ]
  },
  {
   "cell_type": "code",
   "execution_count": 6,
   "metadata": {},
   "outputs": [
    {
     "output_type": "execute_result",
     "data": {
      "text/plain": [
       "         text\n",
       "rating       \n",
       "0        2326\n",
       "1       11597"
      ],
      "text/html": "<div>\n<style scoped>\n    .dataframe tbody tr th:only-of-type {\n        vertical-align: middle;\n    }\n\n    .dataframe tbody tr th {\n        vertical-align: top;\n    }\n\n    .dataframe thead th {\n        text-align: right;\n    }\n</style>\n<table border=\"1\" class=\"dataframe\">\n  <thead>\n    <tr style=\"text-align: right;\">\n      <th></th>\n      <th>text</th>\n    </tr>\n    <tr>\n      <th>rating</th>\n      <th></th>\n    </tr>\n  </thead>\n  <tbody>\n    <tr>\n      <th>0</th>\n      <td>2326</td>\n    </tr>\n    <tr>\n      <th>1</th>\n      <td>11597</td>\n    </tr>\n  </tbody>\n</table>\n</div>"
     },
     "metadata": {},
     "execution_count": 6
    }
   ],
   "source": [
    "subsets['train'].groupby(['rating']).count()"
   ]
  },
  {
   "cell_type": "code",
   "execution_count": 7,
   "metadata": {},
   "outputs": [
    {
     "output_type": "execute_result",
     "data": {
      "text/plain": [
       "<13923x5000 sparse matrix of type '<class 'numpy.int64'>'\n",
       "\twith 1007500 stored elements in Compressed Sparse Row format>"
      ]
     },
     "metadata": {},
     "execution_count": 7
    }
   ],
   "source": [
    "vectorizer = CountVectorizer(stop_words=STOP_WORDS, min_df=5, max_df=1000, max_features=5000)\n",
    "vectorizer.fit_transform(subsets['train']['text'])"
   ]
  },
  {
   "cell_type": "code",
   "execution_count": 8,
   "metadata": {},
   "outputs": [
    {
     "output_type": "execute_result",
     "data": {
      "text/plain": [
       "['00', '000', '10', '100', '1000', '1080p', '11', '12', '120', '1200']"
      ]
     },
     "metadata": {},
     "execution_count": 8
    }
   ],
   "source": [
    "vectorizer.get_feature_names()[:10]"
   ]
  },
  {
   "cell_type": "code",
   "execution_count": 9,
   "metadata": {},
   "outputs": [],
   "source": [
    "texts = {name: vectorizer.transform(subsets[name]['text']) for name in subset_names}\n",
    "categories = {name: subsets[name]['rating'] for name in subset_names}"
   ]
  },
  {
   "cell_type": "code",
   "execution_count": 10,
   "metadata": {},
   "outputs": [
    {
     "output_type": "stream",
     "name": "stdout",
     "text": [
      "Best parameters {'learning_rate': 0.5} and best score: 0.9183358383665414\n"
     ]
    }
   ],
   "source": [
    "boosted_model = xgb.XGBClassifier()\n",
    "parameters = {\n",
    "    'learning_rate': [0.1, 0.25, 0.3, 0.5, 0.75]\n",
    "}\n",
    "searcher = GridSearchCV(boosted_model, parameters, scoring='roc_auc', n_jobs=4)\n",
    "searcher.fit(texts['train'], categories['train'])\n",
    "print(f'Best parameters {searcher.best_params_} and best score: {searcher.best_score_}')"
   ]
  },
  {
   "cell_type": "code",
   "execution_count": 11,
   "metadata": {},
   "outputs": [
    {
     "output_type": "stream",
     "name": "stdout",
     "text": [
      "Best parameters {'scale_pos_weight': 0.2} and best score: 0.9160680599849325\n"
     ]
    }
   ],
   "source": [
    "boosted_model = xgb.XGBClassifier()\n",
    "parameters = {\n",
    "    'scale_pos_weight': [0.1, 0.2, 0.3, 1]\n",
    "}\n",
    "searcher = GridSearchCV(boosted_model, parameters, scoring='roc_auc', n_jobs=4)\n",
    "searcher.fit(texts['train'], categories['train'])\n",
    "print(f'Best parameters {searcher.best_params_} and best score: {searcher.best_score_}')"
   ]
  },
  {
   "cell_type": "code",
   "execution_count": 12,
   "metadata": {},
   "outputs": [
    {
     "output_type": "stream",
     "name": "stdout",
     "text": [
      "Best parameters {'num_parallel_tree': 1} and best score: 0.914525300608984\n"
     ]
    }
   ],
   "source": [
    "boosted_model = xgb.XGBClassifier()\n",
    "parameters = {\n",
    "    'num_parallel_tree': [1, 5, 10]\n",
    "}\n",
    "searcher = GridSearchCV(boosted_model, parameters, scoring='roc_auc', n_jobs=4)\n",
    "searcher.fit(texts['train'], categories['train'])\n",
    "print(f'Best parameters {searcher.best_params_} and best score: {searcher.best_score_}')"
   ]
  },
  {
   "cell_type": "code",
   "execution_count": 13,
   "metadata": {},
   "outputs": [
    {
     "output_type": "stream",
     "name": "stdout",
     "text": [
      "Best parameters {'n_estimators': 1000} and best score: 0.9319266446030696\n"
     ]
    }
   ],
   "source": [
    "boosted_model = xgb.XGBClassifier()\n",
    "parameters = {\n",
    "    'n_estimators': [50, 100, 500, 1000]\n",
    "}\n",
    "searcher = GridSearchCV(boosted_model, parameters, scoring='roc_auc', n_jobs=4)\n",
    "searcher.fit(texts['train'], categories['train'])\n",
    "print(f'Best parameters {searcher.best_params_} and best score: {searcher.best_score_}')"
   ]
  },
  {
   "source": [
    "Training with the best parameters selection gives us:"
   ],
   "cell_type": "markdown",
   "metadata": {}
  },
  {
   "cell_type": "code",
   "execution_count": 15,
   "metadata": {},
   "outputs": [
    {
     "output_type": "stream",
     "name": "stdout",
     "text": [
      "Training metrics\n",
      "              precision    recall  f1-score   support\n",
      "\n",
      "           0       0.97      1.00      0.99      2326\n",
      "           1       1.00      0.99      1.00     11597\n",
      "\n",
      "    accuracy                           1.00     13923\n",
      "   macro avg       0.99      1.00      0.99     13923\n",
      "weighted avg       1.00      1.00      1.00     13923\n",
      "\n",
      "Development metrics\n",
      "              precision    recall  f1-score   support\n",
      "\n",
      "           0       0.71      0.72      0.71       230\n",
      "           1       0.96      0.96      0.96      1569\n",
      "\n",
      "    accuracy                           0.93      1799\n",
      "   macro avg       0.83      0.84      0.84      1799\n",
      "weighted avg       0.93      0.93      0.93      1799\n",
      "\n"
     ]
    }
   ],
   "source": [
    "boosted_model = xgb.XGBClassifier(learning_rate=0.5, num_parallel_tree=1, scale_pos_weight=0.2, n_estimators=1000)\n",
    "boosted_model.fit(texts['train'], categories['train'])\n",
    "print('Training metrics')\n",
    "print(classification_report(categories['train'], boosted_model.predict(texts['train'])))\n",
    "print('Development metrics')\n",
    "print(classification_report(categories['dev'], boosted_model.predict(texts['dev'])))"
   ]
  },
  {
   "source": [
    "These result are better than we got before. The numbers for the dev set are good so while the training metrics look overfitted, this is good."
   ],
   "cell_type": "markdown",
   "metadata": {}
  }
 ],
 "metadata": {
  "kernelspec": {
   "name": "Python 3.8.5 64-bit ('text-oqa78tdt': venv)",
   "display_name": "Python 3.8.5 64-bit ('text-oqa78tdt': venv)",
   "metadata": {
    "interpreter": {
     "hash": "b79a91171a1b654441da0aa02197604a6e053331b5ce31ae0001fbbaddbfb627"
    }
   }
  },
  "language_info": {
   "codemirror_mode": {
    "name": "ipython",
    "version": 3
   },
   "file_extension": ".py",
   "mimetype": "text/x-python",
   "name": "python",
   "nbconvert_exporter": "python",
   "pygments_lexer": "ipython3",
   "version": "3.8.5-final"
  }
 },
 "nbformat": 4,
 "nbformat_minor": 4
}