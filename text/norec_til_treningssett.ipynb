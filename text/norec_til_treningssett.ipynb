{
 "cells": [
  {
   "cell_type": "code",
   "execution_count": 1,
   "metadata": {},
   "outputs": [],
   "source": [
    "import json\n",
    "import tarfile\n",
    "import urllib.request\n",
    "import pyconll\n",
    "import pandas as pd\n",
    "from sklearn.model_selection import train_test_split\n",
    "from pathlib import Path\n",
    "import logging\n",
    "logging.basicConfig(level=logging.INFO)"
   ]
  },
  {
   "cell_type": "code",
   "execution_count": 2,
   "metadata": {},
   "outputs": [],
   "source": [
    "NAME='norec'\n",
    "VERSION='1.0.1'\n",
    "ARCHIVE=f'{NAME}-{VERSION}.tar.gz'\n",
    "URL=f'https://www.mn.uio.no/ifi/english/research/projects/sant/data/norec/{ARCHIVE}'\n",
    "DATA_DIR=Path('../data/norec_raw')\n",
    "CONTENT_DIR=DATA_DIR / 'norec'\n",
    "SAMPLE_FILE = CONTENT_DIR / 'metadata.json'\n",
    "CONLLU_DIR = DATA_DIR / 'conllu'\n",
    "TEXT_DIR = DATA_DIR / 'text'\n",
    "FINAL_DIR = DATA_DIR / '..' / 'norec'"
   ]
  },
  {
   "source": [
    "First we need to download the NoReC archive from UIO and extract it.\n",
    "There's also a couple of tarballs inside the archive tarball.\n",
    "We extract the conllu tarball which contains the review texts.\n",
    "\n",
    "See https://github.com/ltgoslo/norec for Terms of Use."
   ],
   "cell_type": "markdown",
   "metadata": {}
  },
  {
   "cell_type": "code",
   "execution_count": 3,
   "metadata": {},
   "outputs": [],
   "source": [
    "if not SAMPLE_FILE.exists():\n",
    "    if not DATA_DIR.exists():\n",
    "        DATA_DIR.mkdir(parents=True)\n",
    "    urllib.request.urlretrieve(URL, DATA_DIR / ARCHIVE)\n",
    "    tarball = tarfile.open(DATA_DIR / ARCHIVE)\n",
    "    tarball.extractall(CONTENT_DIR)\n",
    "    tarball = tarfile.open(CONTENT_DIR / 'conllu.tar.gz')\n",
    "    tarball.extractall(DATA_DIR)"
   ]
  },
  {
   "source": [
    "Now, we extract the text from the CONLLU-files and put store in pure text files"
   ],
   "cell_type": "markdown",
   "metadata": {}
  },
  {
   "cell_type": "code",
   "execution_count": 4,
   "metadata": {},
   "outputs": [],
   "source": [
    "for subset in ['train', 'dev', 'test']:\n",
    "    if not (TEXT_DIR / subset).exists():\n",
    "        (TEXT_DIR / subset).mkdir(parents=True)\n",
    "    for child in (CONLLU_DIR / subset).iterdir():\n",
    "        conllu = pyconll.load_from_file(child)\n",
    "        with Path(str(child).replace('conllu', 'text', 1).replace('conllu', 'txt')).open(mode='w') as output:\n",
    "            output.write('. '.join([sentence.text for sentence in conllu]))"
   ]
  },
  {
   "source": [
    "The sample has the metadata for the reviews."
   ],
   "cell_type": "markdown",
   "metadata": {}
  },
  {
   "cell_type": "code",
   "execution_count": 5,
   "metadata": {},
   "outputs": [],
   "source": [
    "with (SAMPLE_FILE).open(encoding='utf-8') as input_file:\n",
    "    sample_list = json.load(input_file)"
   ]
  },
  {
   "cell_type": "code",
   "execution_count": 6,
   "metadata": {},
   "outputs": [
    {
     "output_type": "execute_result",
     "data": {
      "text/plain": [
       "35189"
      ]
     },
     "metadata": {},
     "execution_count": 6
    }
   ],
   "source": [
    "len(sample_list)"
   ]
  },
  {
   "cell_type": "code",
   "execution_count": 7,
   "metadata": {},
   "outputs": [
    {
     "output_type": "execute_result",
     "data": {
      "text/plain": [
       "{'authors': ['Birger Vestmo'],\n",
       " 'category': 'screen',\n",
       " 'day': 27,\n",
       " 'excerpt': 'Toppen innen tv-drama akkurat nå!',\n",
       " 'id': 0,\n",
       " 'language': 'nb',\n",
       " 'month': 9,\n",
       " 'rating': 6,\n",
       " 'source': 'p3',\n",
       " 'source-category': 'tv',\n",
       " 'source-id': 74781,\n",
       " 'source-tags': [],\n",
       " 'split': 'train',\n",
       " 'tags': ['tv'],\n",
       " 'title': 'Rome S02',\n",
       " 'url': 'http://p3.no/filmpolitiet/rome-02',\n",
       " 'year': 2007}"
      ]
     },
     "metadata": {},
     "execution_count": 7
    }
   ],
   "source": [
    "sample_list['000000']"
   ]
  },
  {
   "cell_type": "code",
   "execution_count": 8,
   "metadata": {},
   "outputs": [
    {
     "output_type": "execute_result",
     "data": {
      "text/plain": [
       "6"
      ]
     },
     "metadata": {},
     "execution_count": 8
    }
   ],
   "source": [
    "sample_list['000000']['rating']"
   ]
  },
  {
   "cell_type": "code",
   "execution_count": 9,
   "metadata": {},
   "outputs": [],
   "source": [
    "negative_samples = {key: value for key, value in sample_list.items() if value['rating'] < 3}"
   ]
  },
  {
   "cell_type": "code",
   "execution_count": 10,
   "metadata": {},
   "outputs": [
    {
     "output_type": "execute_result",
     "data": {
      "text/plain": [
       "2787"
      ]
     },
     "metadata": {},
     "execution_count": 10
    }
   ],
   "source": [
    "len(negative_samples)"
   ]
  },
  {
   "cell_type": "code",
   "execution_count": 11,
   "metadata": {},
   "outputs": [],
   "source": [
    "positive_samples = {key: value for key, value in sample_list.items() if value['rating'] > 4}"
   ]
  },
  {
   "cell_type": "code",
   "execution_count": 12,
   "metadata": {},
   "outputs": [
    {
     "output_type": "execute_result",
     "data": {
      "text/plain": [
       "14725"
      ]
     },
     "metadata": {},
     "execution_count": 12
    }
   ],
   "source": [
    "len(positive_samples)"
   ]
  },
  {
   "cell_type": "code",
   "execution_count": 13,
   "metadata": {},
   "outputs": [],
   "source": [
    "class SampleLoader():\n",
    "    # We ignore average reviews.\n",
    "    NEGATIVE_THRESHOLD = 3\n",
    "    POSTIVE_THRESHOLD = 4\n",
    "\n",
    "    def __init__(self, sample_path: Path):\n",
    "        self.path = sample_path\n",
    "        \n",
    "    def load(self, sample_id: str):\n",
    "        full_path = self.path / f'{sample_id}.txt'\n",
    "        with full_path.open() as input_file:\n",
    "            text = input_file.read()\n",
    "        return text\n",
    "\n",
    "    @classmethod\n",
    "    def categorise(cls, rating):\n",
    "        return 1 if cls.positive_rating(rating) else 0\n",
    "\n",
    "    @classmethod\n",
    "    def negative_rating(cls, rating):\n",
    "        return rating < cls.NEGATIVE_THRESHOLD\n",
    "\n",
    "    @classmethod\n",
    "    def positive_rating(cls, rating):\n",
    "        return rating > cls.POSTIVE_THRESHOLD\n",
    "\n",
    "    @classmethod\n",
    "    def certain_value(cls, rating):\n",
    "        return cls.negative_rating(rating) or cls.positive_rating(rating)\n",
    "\n",
    "    def make_dataframe(self, samples):\n",
    "        texts = [self.load(key) for key in samples.keys()]\n",
    "        ratings = [self.categorise(value['rating']) for value in samples.values()]\n",
    "        df = pd.DataFrame({'text': texts, 'rating': ratings})\n",
    "        return df.sample(frac=1.)"
   ]
  },
  {
   "cell_type": "code",
   "execution_count": 14,
   "metadata": {},
   "outputs": [],
   "source": [
    "loader = SampleLoader(TEXT_DIR / 'train')"
   ]
  },
  {
   "cell_type": "code",
   "execution_count": 15,
   "metadata": {},
   "outputs": [
    {
     "output_type": "execute_result",
     "data": {
      "text/plain": [
       "'Rome S02. Den andre og siste sesongen av Rome er ute på DVD i Norge.. Om du så sesong 1, vet du at du har noe stort i vente.. Har du aldri sett Rome før, stikk ut og kjøp begge sesongene.. Dette er nemlig en av verdens beste tv-serier, og etter å ha sett de fire første episodene av sesong 2, konstaterer jeg at kvaliteten ser ut til å holde seg på et nesten overraskende høyt nivå!. Enda mørkere. Sesong 2 starter nøyaktig der sesong 1 sluttet.. Julius Cæsar ligger myrdet i Senatet og Lucius Vorenus hulker over liket av Neobie.. Så blir historien enda mørkere.. Marcus Antonius tar over styringen av Roma, men utfordres fra uventet hold.. Og Lucius Vorenus blir rammet av nok en tragedie som sender ham ut på et selvdestruktivt spor og setter vennskapet med Titus Pullo i fare.. Interessant utvikling. Etter førstesesongens klimaks var jeg usikker på hvordan historien skulle ta oss med videre, men det tar ikke lang tid før sesong 2s nøkkelfigurer posisjonerer seg.. Den første episoden tar for seg etterdønningene fra sesong 1, mens episode 2 gjør det klart mellom hvem slagene kommer til å stå.. Spesielt unge Octavians utvikling er interessant, feiden mellom Atia og Servilia flammer opp og Lucius Vorenus, som var en av heltene i sesong 1, blir en gradvis mørkere figur.. Er det en ting Rome ikke blir, så er det kjedelig!. Spennende konflikter. Alt som gjorde Rome så bra i den første sesongen er videreført.. De spennende konfliktene, intrigene, det gode skuespillet og de ekstravagante kostymene og kulissene.. Serien er spilt inn i Cinecitta Studios i utkanten av Roma, men følelsen av et filmsett får jeg aldri.. I stedet får jeg inntrykk av å befinne meg midt i en by med trange gater og et sydende folkeliv.. Serien er regissert av noen de samme folka som sto bak The Sopranos, Six Feet Under og Carnivale, og er altså hentet fra øverste hylle!. God DVD-presentasjon. DVD-utgivelsen av Rome sesong 2 har like god innpakning og presentasjon som sesong 1, men har i tillegg Dolby 5.1 lyd, som sesong 1 ikke hadde, så verden går fremover!. Serien avsluttes etter sesong 2, og det er kanskje smart å gi seg mens man er på topp.. Rome er virkelig nær toppen innen tv-drama akkurat nå!'"
      ]
     },
     "metadata": {},
     "execution_count": 15
    }
   ],
   "source": [
    "loader.load('000000')"
   ]
  },
  {
   "source": [
    "Filter out average reviews and create dataframes for each subset"
   ],
   "cell_type": "markdown",
   "metadata": {}
  },
  {
   "cell_type": "code",
   "execution_count": 16,
   "metadata": {},
   "outputs": [],
   "source": [
    "subset_names = ['train', 'test', 'dev']\n",
    "loaders = {name: SampleLoader(TEXT_DIR / name) for name in subset_names}\n",
    "with Path(SAMPLE_FILE).open(encoding='utf-8') as input_file:\n",
    "    sample_list = json.load(input_file)\n",
    "certain_samples = {key: value for key, value in sample_list.items() if SampleLoader.certain_value(value['rating'])}\n",
    "subsets = {name: {key: value for key, value in certain_samples.items() if value['split'] == name} for name in subset_names}\n",
    "dataframes = {name: loaders[name].make_dataframe(subset) for name, subset in subsets.items()}"
   ]
  },
  {
   "cell_type": "code",
   "execution_count": 17,
   "metadata": {},
   "outputs": [
    {
     "output_type": "execute_result",
     "data": {
      "text/plain": [
       "                                                    text  rating\n",
       "2676   «Poison». Som alle store artister passer Timbe...       1\n",
       "12603  Totalt bortkasta Liv Tyler. Men denne filmen e...       0\n",
       "6845   TEST:. Ford B-Max - liten, men stor. B-Max er ...       1\n",
       "2433   Teateranmeldelse:. «Litt av et par!». «Litt av...       1\n",
       "5987   Episk kraftpakke. Pen grafikk, vakre miljøer, ...       1\n",
       "7707   Plextor Premium. Plextor er på ingen måte førs...       1\n",
       "5319   Filmanmeldelse:. Intenst rasedrama. 1960-talle...       1\n",
       "5805   Øya-anmeldelse:. Skarpe Diem. KONSERT: Karpe D...       1\n",
       "4439   Sterk Oscar-vinner. Skarpt og gripende fra den...       1\n",
       "12240  Gere på Golgata, god påske. «Bedrageren» Arbit...       1"
      ],
      "text/html": "<div>\n<style scoped>\n    .dataframe tbody tr th:only-of-type {\n        vertical-align: middle;\n    }\n\n    .dataframe tbody tr th {\n        vertical-align: top;\n    }\n\n    .dataframe thead th {\n        text-align: right;\n    }\n</style>\n<table border=\"1\" class=\"dataframe\">\n  <thead>\n    <tr style=\"text-align: right;\">\n      <th></th>\n      <th>text</th>\n      <th>rating</th>\n    </tr>\n  </thead>\n  <tbody>\n    <tr>\n      <th>2676</th>\n      <td>«Poison». Som alle store artister passer Timbe...</td>\n      <td>1</td>\n    </tr>\n    <tr>\n      <th>12603</th>\n      <td>Totalt bortkasta Liv Tyler. Men denne filmen e...</td>\n      <td>0</td>\n    </tr>\n    <tr>\n      <th>6845</th>\n      <td>TEST:. Ford B-Max - liten, men stor. B-Max er ...</td>\n      <td>1</td>\n    </tr>\n    <tr>\n      <th>2433</th>\n      <td>Teateranmeldelse:. «Litt av et par!». «Litt av...</td>\n      <td>1</td>\n    </tr>\n    <tr>\n      <th>5987</th>\n      <td>Episk kraftpakke. Pen grafikk, vakre miljøer, ...</td>\n      <td>1</td>\n    </tr>\n    <tr>\n      <th>7707</th>\n      <td>Plextor Premium. Plextor er på ingen måte førs...</td>\n      <td>1</td>\n    </tr>\n    <tr>\n      <th>5319</th>\n      <td>Filmanmeldelse:. Intenst rasedrama. 1960-talle...</td>\n      <td>1</td>\n    </tr>\n    <tr>\n      <th>5805</th>\n      <td>Øya-anmeldelse:. Skarpe Diem. KONSERT: Karpe D...</td>\n      <td>1</td>\n    </tr>\n    <tr>\n      <th>4439</th>\n      <td>Sterk Oscar-vinner. Skarpt og gripende fra den...</td>\n      <td>1</td>\n    </tr>\n    <tr>\n      <th>12240</th>\n      <td>Gere på Golgata, god påske. «Bedrageren» Arbit...</td>\n      <td>1</td>\n    </tr>\n  </tbody>\n</table>\n</div>"
     },
     "metadata": {},
     "execution_count": 17
    }
   ],
   "source": [
    "dataframes['train'].head(10)"
   ]
  },
  {
   "cell_type": "code",
   "execution_count": 18,
   "metadata": {},
   "outputs": [
    {
     "output_type": "execute_result",
     "data": {
      "text/plain": [
       "3"
      ]
     },
     "metadata": {},
     "execution_count": 18
    }
   ],
   "source": [
    "len(dataframes)"
   ]
  },
  {
   "cell_type": "code",
   "execution_count": 19,
   "metadata": {},
   "outputs": [
    {
     "output_type": "execute_result",
     "data": {
      "text/plain": [
       "dict_keys(['train', 'test', 'dev'])"
      ]
     },
     "metadata": {},
     "execution_count": 19
    }
   ],
   "source": [
    "dataframes.keys()"
   ]
  },
  {
   "cell_type": "code",
   "execution_count": 20,
   "metadata": {},
   "outputs": [],
   "source": [
    "for name, subset in dataframes.items():\n",
    "    subset.to_pickle(FINAL_DIR / f'norsk_kategori_{name}.pkl')"
   ]
  },
  {
   "cell_type": "code",
   "execution_count": null,
   "metadata": {},
   "outputs": [],
   "source": []
  }
 ],
 "metadata": {
  "kernelspec": {
   "display_name": "Python 3",
   "language": "python",
   "name": "python3"
  },
  "language_info": {
   "codemirror_mode": {
    "name": "ipython",
    "version": 3
   },
   "file_extension": ".py",
   "mimetype": "text/x-python",
   "name": "python",
   "nbconvert_exporter": "python",
   "pygments_lexer": "ipython3",
   "version": "3.8.5-final"
  }
 },
 "nbformat": 4,
 "nbformat_minor": 4
}