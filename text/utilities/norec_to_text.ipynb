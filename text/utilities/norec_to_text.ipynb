{
 "cells": [
  {
   "cell_type": "code",
   "execution_count": 1,
   "metadata": {},
   "outputs": [],
   "source": [
    "from pathlib import Path\n",
    "\n",
    "import pandas as pd"
   ]
  },
  {
   "cell_type": "code",
   "execution_count": 2,
   "metadata": {},
   "outputs": [],
   "source": [
    "DATA_PATH = Path('../data/norec')"
   ]
  },
  {
   "cell_type": "code",
   "execution_count": 3,
   "metadata": {},
   "outputs": [],
   "source": [
    "subset_names = ['train', 'test', 'dev']\n",
    "subsets = {name: pd.read_pickle(DATA_PATH / f'norsk_kategori_{name}.pkl') for name in subset_names}"
   ]
  },
  {
   "cell_type": "code",
   "execution_count": 4,
   "metadata": {},
   "outputs": [],
   "source": [
    "text = subsets['train'].iloc[0]['text']"
   ]
  },
  {
   "cell_type": "code",
   "execution_count": 5,
   "metadata": {},
   "outputs": [
    {
     "output_type": "execute_result",
     "data": {
      "text/plain": [
       "\"«Poison». Som alle store artister passer Timberlake på å synliggjøre hvor han kommer fra musikalsk.. Derav denne relativt obskure new jack swing-saken fra Bell Biv DeVoe, gruppen som ble til New Edition og som sådan forløpere til N'Sync.. Fenomenalt frekk låt som skreddersydd for Justin.\""
      ]
     },
     "metadata": {},
     "execution_count": 5
    }
   ],
   "source": [
    "text"
   ]
  },
  {
   "cell_type": "code",
   "execution_count": 8,
   "metadata": {},
   "outputs": [],
   "source": [
    "texts = {name: subsets[name]['text'] for name in subset_names}"
   ]
  },
  {
   "cell_type": "code",
   "execution_count": 10,
   "metadata": {},
   "outputs": [
    {
     "output_type": "execute_result",
     "data": {
      "text/plain": [
       "'Rome S02. Den andre og siste sesongen av Rome er ute på DVD i Norge.. Om du så sesong 1, vet du at du har noe stort i vente.. Har du aldri sett Rome før, stikk ut og kjøp begge sesongene.. Dette er nemlig en av verdens beste tv-serier, og etter å ha sett de fire første episodene av sesong 2, konstaterer jeg at kvaliteten ser ut til å holde seg på et nesten overraskende høyt nivå!. Enda mørkere. Sesong 2 starter nøyaktig der sesong 1 sluttet.. Julius Cæsar ligger myrdet i Senatet og Lucius Vorenus hulker over liket av Neobie.. Så blir historien enda mørkere.. Marcus Antonius tar over styringen av Roma, men utfordres fra uventet hold.. Og Lucius Vorenus blir rammet av nok en tragedie som sender ham ut på et selvdestruktivt spor og setter vennskapet med Titus Pullo i fare.. Interessant utvikling. Etter førstesesongens klimaks var jeg usikker på hvordan historien skulle ta oss med videre, men det tar ikke lang tid før sesong 2s nøkkelfigurer posisjonerer seg.. Den første episoden tar for seg etterdønningene fra sesong 1, mens episode 2 gjør det klart mellom hvem slagene kommer til å stå.. Spesielt unge Octavians utvikling er interessant, feiden mellom Atia og Servilia flammer opp og Lucius Vorenus, som var en av heltene i sesong 1, blir en gradvis mørkere figur.. Er det en ting Rome ikke blir, så er det kjedelig!. Spennende konflikter. Alt som gjorde Rome så bra i den første sesongen er videreført.. De spennende konfliktene, intrigene, det gode skuespillet og de ekstravagante kostymene og kulissene.. Serien er spilt inn i Cinecitta Studios i utkanten av Roma, men følelsen av et filmsett får jeg aldri.. I stedet får jeg inntrykk av å befinne meg midt i en by med trange gater og et sydende folkeliv.. Serien er regissert av noen de samme folka som sto bak The Sopranos, Six Feet Under og Carnivale, og er altså hentet fra øverste hylle!. God DVD-presentasjon. DVD-utgivelsen av Rome sesong 2 har like god innpakning og presentasjon som sesong 1, men har i tillegg Dolby 5.1 lyd, som sesong 1 ikke hadde, så verden går fremover!. Serien avsluttes etter sesong 2, og det er kanskje smart å gi seg mens man er på topp.. Rome er virkelig nær toppen innen tv-drama akkurat nå!'"
      ]
     },
     "metadata": {},
     "execution_count": 10
    }
   ],
   "source": [
    "texts['train'][0]"
   ]
  },
  {
   "cell_type": "code",
   "execution_count": 19,
   "metadata": {},
   "outputs": [],
   "source": [
    "text_path = DATA_PATH / 'text'\n",
    "text_path.mkdir(exist_ok=True)\n",
    "for name in subset_names:\n",
    "    with (text_path / f'{name}.txt').open(mode='w') as output_file:\n",
    "        for line in texts[name]:\n",
    "            output_file.write(f'{line}\\n')"
   ]
  },
  {
   "cell_type": "code",
   "execution_count": null,
   "metadata": {},
   "outputs": [],
   "source": []
  }
 ],
 "metadata": {
  "kernelspec": {
   "name": "python3",
   "display_name": "Python 3.8.5 64-bit ('text-oqa78tdt': venv)",
   "metadata": {
    "interpreter": {
     "hash": "b79a91171a1b654441da0aa02197604a6e053331b5ce31ae0001fbbaddbfb627"
    }
   }
  },
  "language_info": {
   "codemirror_mode": {
    "name": "ipython",
    "version": 3
   },
   "file_extension": ".py",
   "mimetype": "text/x-python",
   "name": "python",
   "nbconvert_exporter": "python",
   "pygments_lexer": "ipython3",
   "version": "3.8.5-final"
  }
 },
 "nbformat": 4,
 "nbformat_minor": 4
}