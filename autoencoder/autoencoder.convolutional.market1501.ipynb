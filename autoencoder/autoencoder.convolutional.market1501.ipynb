{
 "cells": [
  {
   "cell_type": "code",
   "execution_count": 12,
   "metadata": {
    "collapsed": true,
    "jupyter": {
     "outputs_hidden": true
    }
   },
   "outputs": [
    {
     "name": "stdout",
     "output_type": "stream",
     "text": [
      "Requirement already satisfied: wandb in /opt/conda/lib/python3.7/site-packages (0.10.12)\n",
      "Requirement already satisfied: python-dateutil>=2.6.1 in /opt/conda/lib/python3.7/site-packages (from wandb) (2.8.1)\n",
      "Requirement already satisfied: shortuuid>=0.5.0 in /opt/conda/lib/python3.7/site-packages (from wandb) (1.0.1)\n",
      "Requirement already satisfied: PyYAML in /opt/conda/lib/python3.7/site-packages (from wandb) (5.3)\n",
      "Requirement already satisfied: configparser>=3.8.1 in /opt/conda/lib/python3.7/site-packages (from wandb) (5.0.1)\n",
      "Requirement already satisfied: subprocess32>=3.5.3 in /opt/conda/lib/python3.7/site-packages (from wandb) (3.5.4)\n",
      "Requirement already satisfied: requests<3,>=2.0.0 in /opt/conda/lib/python3.7/site-packages (from wandb) (2.22.0)\n",
      "Requirement already satisfied: psutil>=5.0.0 in /opt/conda/lib/python3.7/site-packages (from wandb) (5.6.7)\n",
      "Requirement already satisfied: promise<3,>=2.0 in /opt/conda/lib/python3.7/site-packages (from wandb) (2.3)\n",
      "Requirement already satisfied: sentry-sdk>=0.4.0 in /opt/conda/lib/python3.7/site-packages (from wandb) (0.19.4)\n",
      "Requirement already satisfied: protobuf>=3.12.0 in /opt/conda/lib/python3.7/site-packages (from wandb) (3.14.0)\n",
      "Requirement already satisfied: Click>=7.0 in /opt/conda/lib/python3.7/site-packages (from wandb) (7.0)\n",
      "Requirement already satisfied: six>=1.13.0 in /opt/conda/lib/python3.7/site-packages (from wandb) (1.14.0)\n",
      "Requirement already satisfied: watchdog>=0.8.3 in /opt/conda/lib/python3.7/site-packages (from wandb) (0.10.2)\n",
      "Requirement already satisfied: GitPython>=1.0.0 in /opt/conda/lib/python3.7/site-packages (from wandb) (3.1.11)\n",
      "Requirement already satisfied: docker-pycreds>=0.4.0 in /opt/conda/lib/python3.7/site-packages (from wandb) (0.4.0)\n",
      "Requirement already satisfied: chardet<3.1.0,>=3.0.2 in /opt/conda/lib/python3.7/site-packages (from requests<3,>=2.0.0->wandb) (3.0.4)\n",
      "Requirement already satisfied: idna<2.9,>=2.5 in /opt/conda/lib/python3.7/site-packages (from requests<3,>=2.0.0->wandb) (2.8)\n",
      "Requirement already satisfied: urllib3!=1.25.0,!=1.25.1,<1.26,>=1.21.1 in /opt/conda/lib/python3.7/site-packages (from requests<3,>=2.0.0->wandb) (1.25.8)\n",
      "Requirement already satisfied: certifi>=2017.4.17 in /opt/conda/lib/python3.7/site-packages (from requests<3,>=2.0.0->wandb) (2019.11.28)\n",
      "Requirement already satisfied: pathtools>=0.1.1 in /opt/conda/lib/python3.7/site-packages (from watchdog>=0.8.3->wandb) (0.1.2)\n",
      "Requirement already satisfied: gitdb<5,>=4.0.1 in /opt/conda/lib/python3.7/site-packages (from GitPython>=1.0.0->wandb) (4.0.5)\n",
      "Requirement already satisfied: smmap<4,>=3.0.1 in /opt/conda/lib/python3.7/site-packages (from gitdb<5,>=4.0.1->GitPython>=1.0.0->wandb) (3.0.4)\n"
     ]
    }
   ],
   "source": [
    "!pip install wandb"
   ]
  },
  {
   "cell_type": "markdown",
   "metadata": {},
   "source": [
    "## Dataset\n",
    "\n",
    "The data set is available from [Kaggle](https://www.kaggle.com/pengcw1/market-1501/data \"Market1501\")"
   ]
  },
  {
   "cell_type": "code",
   "execution_count": 1,
   "metadata": {},
   "outputs": [],
   "source": [
    "from pathlib import Path\n",
    "import sagemaker\n",
    "from sagemaker import get_execution_role\n",
    "from sagemaker.pytorch import PyTorch\n",
    "import wandb\n",
    "\n",
    "session = sagemaker.Session()\n",
    "role = get_execution_role()\n",
    "BUCKET = 'sagemaker-capra'\n",
    "BASE_PATH = Path('')\n",
    "SAVE_PATH = BASE_PATH / 'models' / 'convolutional_market1501'\n",
    "DATA_PATH = BASE_PATH / 'data/Market-1501-v15.09.15'"
   ]
  },
  {
   "cell_type": "code",
   "execution_count": 18,
   "metadata": {},
   "outputs": [
    {
     "name": "stderr",
     "output_type": "stream",
     "text": [
      "wandb: You can find your API key in your browser here: https://wandb.ai/authorize\n"
     ]
    },
    {
     "name": "stdin",
     "output_type": "stream",
     "text": [
      "\u001b[34m\u001b[1mwandb\u001b[0m: Paste an API key from your profile and hit enter:  ········································\n"
     ]
    },
    {
     "name": "stderr",
     "output_type": "stream",
     "text": [
      "wandb: Appending key for api.wandb.ai to your netrc file: /root/.netrc\n"
     ]
    },
    {
     "data": {
      "text/plain": [
       "True"
      ]
     },
     "execution_count": 18,
     "metadata": {},
     "output_type": "execute_result"
    }
   ],
   "source": [
    "wandb.login()"
   ]
  },
  {
   "cell_type": "code",
   "execution_count": 19,
   "metadata": {},
   "outputs": [],
   "source": [
    "wandb.sagemaker_auth(path='source')"
   ]
  },
  {
   "cell_type": "code",
   "execution_count": null,
   "metadata": {
    "collapsed": true,
    "jupyter": {
     "outputs_hidden": true
    }
   },
   "outputs": [
    {
     "name": "stdout",
     "output_type": "stream",
     "text": [
      "2020-12-10 22:31:30 Starting - Starting the training job...\n",
      "2020-12-10 22:31:53 Starting - Launching requested ML instancesProfilerReport-1607639489: InProgress\n",
      "......\n",
      "2020-12-10 22:32:54 Starting - Preparing the instances for training......\n",
      "2020-12-10 22:33:55 Downloading - Downloading input data.........\n",
      "2020-12-10 22:35:28 Training - Training image download completed. Training in progress..\u001b[34mbash: cannot set terminal process group (-1): Inappropriate ioctl for device\u001b[0m\n",
      "\u001b[34mbash: no job control in this shell\u001b[0m\n",
      "\u001b[34m2020-12-10 22:35:29,261 sagemaker-training-toolkit INFO     Imported framework sagemaker_pytorch_container.training\u001b[0m\n",
      "\u001b[34m2020-12-10 22:35:29,264 sagemaker-training-toolkit INFO     No GPUs detected (normal if no gpus installed)\u001b[0m\n",
      "\u001b[34m2020-12-10 22:35:29,292 sagemaker_pytorch_container.training INFO     Block until all host DNS lookups succeed.\u001b[0m\n",
      "\u001b[34m2020-12-10 22:35:29,299 sagemaker_pytorch_container.training INFO     Invoking user training script.\u001b[0m\n",
      "\u001b[34m2020-12-10 22:35:29,719 sagemaker-training-toolkit INFO     No GPUs detected (normal if no gpus installed)\u001b[0m\n",
      "\u001b[34m2020-12-10 22:35:29,734 sagemaker-training-toolkit INFO     No GPUs detected (normal if no gpus installed)\u001b[0m\n",
      "\u001b[34m2020-12-10 22:35:29,757 sagemaker-training-toolkit INFO     No GPUs detected (normal if no gpus installed)\u001b[0m\n",
      "\u001b[34m2020-12-10 22:35:29,767 sagemaker-training-toolkit INFO     Invoking user script\n",
      "\u001b[0m\n",
      "\u001b[34mTraining Env:\n",
      "\u001b[0m\n",
      "\u001b[34m{\n",
      "    \"additional_framework_parameters\": {},\n",
      "    \"channel_input_dirs\": {\n",
      "        \"training\": \"/opt/ml/input/data/training\"\n",
      "    },\n",
      "    \"current_host\": \"algo-1\",\n",
      "    \"framework_module\": \"sagemaker_pytorch_container.training:main\",\n",
      "    \"hosts\": [\n",
      "        \"algo-1\"\n",
      "    ],\n",
      "    \"hyperparameters\": {\n",
      "        \"batch-size\": 128,\n",
      "        \"learning-rate\": 0.001,\n",
      "        \"num-epochs\": 500,\n",
      "        \"model-name\": \"model.pt\"\n",
      "    },\n",
      "    \"input_config_dir\": \"/opt/ml/input/config\",\n",
      "    \"input_data_config\": {\n",
      "        \"training\": {\n",
      "            \"TrainingInputMode\": \"File\",\n",
      "            \"S3DistributionType\": \"FullyReplicated\",\n",
      "            \"RecordWrapperType\": \"None\"\n",
      "        }\n",
      "    },\n",
      "    \"input_dir\": \"/opt/ml/input\",\n",
      "    \"is_master\": true,\n",
      "    \"job_name\": \"pytorch-training-2020-12-10-22-31-29-502\",\n",
      "    \"log_level\": 20,\n",
      "    \"master_hostname\": \"algo-1\",\n",
      "    \"model_dir\": \"/opt/ml/model\",\n",
      "    \"module_dir\": \"s3://sagemaker-eu-west-1-259177788634/pytorch-training-2020-12-10-22-31-29-502/source/sourcedir.tar.gz\",\n",
      "    \"module_name\": \"train\",\n",
      "    \"network_interface_name\": \"eth0\",\n",
      "    \"num_cpus\": 2,\n",
      "    \"num_gpus\": 0,\n",
      "    \"output_data_dir\": \"/opt/ml/output/data\",\n",
      "    \"output_dir\": \"/opt/ml/output\",\n",
      "    \"output_intermediate_dir\": \"/opt/ml/output/intermediate\",\n",
      "    \"resource_config\": {\n",
      "        \"current_host\": \"algo-1\",\n",
      "        \"hosts\": [\n",
      "            \"algo-1\"\n",
      "        ],\n",
      "        \"network_interface_name\": \"eth0\"\n",
      "    },\n",
      "    \"user_entry_point\": \"train.py\"\u001b[0m\n",
      "\u001b[34m}\n",
      "\u001b[0m\n",
      "\u001b[34mEnvironment variables:\n",
      "\u001b[0m\n",
      "\u001b[34mSM_HOSTS=[\"algo-1\"]\u001b[0m\n",
      "\u001b[34mSM_NETWORK_INTERFACE_NAME=eth0\u001b[0m\n",
      "\u001b[34mSM_HPS={\"batch-size\":128,\"learning-rate\":0.001,\"model-name\":\"model.pt\",\"num-epochs\":500}\u001b[0m\n",
      "\u001b[34mSM_USER_ENTRY_POINT=train.py\u001b[0m\n",
      "\u001b[34mSM_FRAMEWORK_PARAMS={}\u001b[0m\n",
      "\u001b[34mSM_RESOURCE_CONFIG={\"current_host\":\"algo-1\",\"hosts\":[\"algo-1\"],\"network_interface_name\":\"eth0\"}\u001b[0m\n",
      "\u001b[34mSM_INPUT_DATA_CONFIG={\"training\":{\"RecordWrapperType\":\"None\",\"S3DistributionType\":\"FullyReplicated\",\"TrainingInputMode\":\"File\"}}\u001b[0m\n",
      "\u001b[34mSM_OUTPUT_DATA_DIR=/opt/ml/output/data\u001b[0m\n",
      "\u001b[34mSM_CHANNELS=[\"training\"]\u001b[0m\n",
      "\u001b[34mSM_CURRENT_HOST=algo-1\u001b[0m\n",
      "\u001b[34mSM_MODULE_NAME=train\u001b[0m\n",
      "\u001b[34mSM_LOG_LEVEL=20\u001b[0m\n",
      "\u001b[34mSM_FRAMEWORK_MODULE=sagemaker_pytorch_container.training:main\u001b[0m\n",
      "\u001b[34mSM_INPUT_DIR=/opt/ml/input\u001b[0m\n",
      "\u001b[34mSM_INPUT_CONFIG_DIR=/opt/ml/input/config\u001b[0m\n",
      "\u001b[34mSM_OUTPUT_DIR=/opt/ml/output\u001b[0m\n",
      "\u001b[34mSM_NUM_CPUS=2\u001b[0m\n",
      "\u001b[34mSM_NUM_GPUS=0\u001b[0m\n",
      "\u001b[34mSM_MODEL_DIR=/opt/ml/model\u001b[0m\n",
      "\u001b[34mSM_MODULE_DIR=s3://sagemaker-eu-west-1-259177788634/pytorch-training-2020-12-10-22-31-29-502/source/sourcedir.tar.gz\u001b[0m\n",
      "\u001b[34mSM_TRAINING_ENV={\"additional_framework_parameters\":{},\"channel_input_dirs\":{\"training\":\"/opt/ml/input/data/training\"},\"current_host\":\"algo-1\",\"framework_module\":\"sagemaker_pytorch_container.training:main\",\"hosts\":[\"algo-1\"],\"hyperparameters\":{\"batch-size\":128,\"learning-rate\":0.001,\"model-name\":\"model.pt\",\"num-epochs\":500},\"input_config_dir\":\"/opt/ml/input/config\",\"input_data_config\":{\"training\":{\"RecordWrapperType\":\"None\",\"S3DistributionType\":\"FullyReplicated\",\"TrainingInputMode\":\"File\"}},\"input_dir\":\"/opt/ml/input\",\"is_master\":true,\"job_name\":\"pytorch-training-2020-12-10-22-31-29-502\",\"log_level\":20,\"master_hostname\":\"algo-1\",\"model_dir\":\"/opt/ml/model\",\"module_dir\":\"s3://sagemaker-eu-west-1-259177788634/pytorch-training-2020-12-10-22-31-29-502/source/sourcedir.tar.gz\",\"module_name\":\"train\",\"network_interface_name\":\"eth0\",\"num_cpus\":2,\"num_gpus\":0,\"output_data_dir\":\"/opt/ml/output/data\",\"output_dir\":\"/opt/ml/output\",\"output_intermediate_dir\":\"/opt/ml/output/intermediate\",\"resource_config\":{\"current_host\":\"algo-1\",\"hosts\":[\"algo-1\"],\"network_interface_name\":\"eth0\"},\"user_entry_point\":\"train.py\"}\u001b[0m\n",
      "\u001b[34mSM_USER_ARGS=[\"--batch-size\",\"128\",\"--learning-rate\",\"0.001\",\"--model-name\",\"model.pt\",\"--num-epochs\",\"500\"]\u001b[0m\n",
      "\u001b[34mSM_OUTPUT_INTERMEDIATE_DIR=/opt/ml/output/intermediate\u001b[0m\n",
      "\u001b[34mSM_CHANNEL_TRAINING=/opt/ml/input/data/training\u001b[0m\n",
      "\u001b[34mSM_HP_BATCH-SIZE=128\u001b[0m\n",
      "\u001b[34mSM_HP_LEARNING-RATE=0.001\u001b[0m\n",
      "\u001b[34mSM_HP_NUM-EPOCHS=500\u001b[0m\n",
      "\u001b[34mSM_HP_MODEL-NAME=model.pt\u001b[0m\n",
      "\u001b[34mPYTHONPATH=/opt/ml/code:/opt/conda/bin:/opt/conda/lib/python36.zip:/opt/conda/lib/python3.6:/opt/conda/lib/python3.6/lib-dynload:/opt/conda/lib/python3.6/site-packages\n",
      "\u001b[0m\n",
      "\u001b[34mInvoking script with the following command:\n",
      "\u001b[0m\n",
      "\u001b[34m/opt/conda/bin/python train.py --batch-size 128 --learning-rate 0.001 --model-name model.pt --num-epochs 500\n",
      "\n",
      "\u001b[0m\n",
      "\u001b[34mCollecting scikit-image\n",
      "  Downloading scikit_image-0.17.2-cp36-cp36m-manylinux1_x86_64.whl (12.4 MB)\u001b[0m\n",
      "\u001b[34mCollecting pillow!=7.1.0,!=7.1.1,>=4.3.0\n",
      "  Downloading Pillow-8.0.1-cp36-cp36m-manylinux1_x86_64.whl (2.2 MB)\u001b[0m\n",
      "\u001b[34mCollecting PyWavelets>=1.1.1\n",
      "  Downloading PyWavelets-1.1.1-cp36-cp36m-manylinux1_x86_64.whl (4.4 MB)\u001b[0m\n",
      "\u001b[34mCollecting tifffile>=2019.7.26\n",
      "  Downloading tifffile-2020.9.3-py3-none-any.whl (148 kB)\u001b[0m\n",
      "\u001b[34mRequirement already satisfied: numpy>=1.15.1 in /opt/conda/lib/python3.6/site-packages (from scikit-image) (1.19.1)\u001b[0m\n",
      "\u001b[34mRequirement already satisfied: networkx>=2.0 in /opt/conda/lib/python3.6/site-packages (from scikit-image) (2.5)\u001b[0m\n",
      "\u001b[34mRequirement already satisfied: matplotlib!=3.0.0,>=2.0.0 in /opt/conda/lib/python3.6/site-packages (from scikit-image) (3.3.3)\u001b[0m\n",
      "\u001b[34mRequirement already satisfied: scipy>=1.0.1 in /opt/conda/lib/python3.6/site-packages (from scikit-image) (1.2.2)\u001b[0m\n",
      "\u001b[34mCollecting imageio>=2.3.0\n",
      "  Downloading imageio-2.9.0-py3-none-any.whl (3.3 MB)\u001b[0m\n",
      "\u001b[34mRequirement already satisfied: decorator>=4.3.0 in /opt/conda/lib/python3.6/site-packages (from networkx>=2.0->scikit-image) (4.4.2)\u001b[0m\n",
      "\u001b[34mRequirement already satisfied: cycler>=0.10 in /opt/conda/lib/python3.6/site-packages (from matplotlib!=3.0.0,>=2.0.0->scikit-image) (0.10.0)\u001b[0m\n",
      "\u001b[34mRequirement already satisfied: kiwisolver>=1.0.1 in /opt/conda/lib/python3.6/site-packages (from matplotlib!=3.0.0,>=2.0.0->scikit-image) (1.3.1)\u001b[0m\n",
      "\u001b[34mRequirement already satisfied: python-dateutil>=2.1 in /opt/conda/lib/python3.6/site-packages (from matplotlib!=3.0.0,>=2.0.0->scikit-image) (2.8.1)\u001b[0m\n",
      "\u001b[34mRequirement already satisfied: pyparsing!=2.0.4,!=2.1.2,!=2.1.6,>=2.0.3 in /opt/conda/lib/python3.6/site-packages (from matplotlib!=3.0.0,>=2.0.0->scikit-image) (2.4.7)\u001b[0m\n",
      "\u001b[34mRequirement already satisfied: six in /opt/conda/lib/python3.6/site-packages (from cycler>=0.10->matplotlib!=3.0.0,>=2.0.0->scikit-image) (1.15.0)\u001b[0m\n",
      "\u001b[34mInstalling collected packages: pillow, PyWavelets, tifffile, imageio, scikit-image\n",
      "  Attempting uninstall: pillow\n",
      "    Found existing installation: Pillow 7.1.0\n",
      "    Uninstalling Pillow-7.1.0:\n",
      "      Successfully uninstalled Pillow-7.1.0\u001b[0m\n",
      "\u001b[34mSuccessfully installed PyWavelets-1.1.1 imageio-2.9.0 pillow-8.0.1 scikit-image-0.17.2 tifffile-2020.9.3\u001b[0m\n",
      "\u001b[34mCollecting wandb\n",
      "  Downloading wandb-0.10.12-py2.py3-none-any.whl (1.8 MB)\u001b[0m\n",
      "\u001b[34mCollecting sentry-sdk>=0.4.0\n",
      "  Downloading sentry_sdk-0.19.5-py2.py3-none-any.whl (128 kB)\u001b[0m\n",
      "\u001b[34mRequirement already satisfied: python-dateutil>=2.6.1 in /opt/conda/lib/python3.6/site-packages (from wandb) (2.8.1)\u001b[0m\n",
      "\u001b[34mRequirement already satisfied: psutil>=5.0.0 in /opt/conda/lib/python3.6/site-packages (from wandb) (5.6.7)\u001b[0m\n",
      "\u001b[34mRequirement already satisfied: protobuf>=3.12.0 in /opt/conda/lib/python3.6/site-packages (from wandb) (3.14.0)\u001b[0m\n",
      "\u001b[34mCollecting subprocess32>=3.5.3\n",
      "  Downloading subprocess32-3.5.4.tar.gz (97 kB)\u001b[0m\n",
      "\u001b[34mCollecting shortuuid>=0.5.0\n",
      "  Downloading shortuuid-1.0.1-py3-none-any.whl (7.5 kB)\u001b[0m\n",
      "\u001b[34mCollecting watchdog>=0.8.3\n",
      "  Downloading watchdog-1.0.1.tar.gz (97 kB)\u001b[0m\n",
      "\u001b[34mCollecting GitPython>=1.0.0\n",
      "  Downloading GitPython-3.1.11-py3-none-any.whl (159 kB)\u001b[0m\n",
      "\u001b[34mRequirement already satisfied: requests<3,>=2.0.0 in /opt/conda/lib/python3.6/site-packages (from wandb) (2.24.0)\u001b[0m\n",
      "\u001b[34mRequirement already satisfied: six>=1.13.0 in /opt/conda/lib/python3.6/site-packages (from wandb) (1.15.0)\u001b[0m\n",
      "\u001b[34mCollecting docker-pycreds>=0.4.0\n",
      "  Downloading docker_pycreds-0.4.0-py2.py3-none-any.whl (9.0 kB)\u001b[0m\n",
      "\u001b[34mRequirement already satisfied: Click>=7.0 in /opt/conda/lib/python3.6/site-packages (from wandb) (7.1.2)\u001b[0m\n",
      "\u001b[34mRequirement already satisfied: PyYAML in /opt/conda/lib/python3.6/site-packages (from wandb) (5.3.1)\u001b[0m\n",
      "\u001b[34mCollecting configparser>=3.8.1\n",
      "  Downloading configparser-5.0.1-py3-none-any.whl (22 kB)\u001b[0m\n",
      "\u001b[34mCollecting promise<3,>=2.0\n",
      "  Downloading promise-2.3.tar.gz (19 kB)\u001b[0m\n",
      "\u001b[34mRequirement already satisfied: urllib3>=1.10.0 in /opt/conda/lib/python3.6/site-packages (from sentry-sdk>=0.4.0->wandb) (1.25.11)\u001b[0m\n",
      "\u001b[34mRequirement already satisfied: certifi in /opt/conda/lib/python3.6/site-packages (from sentry-sdk>=0.4.0->wandb) (2020.11.8)\u001b[0m\n",
      "\u001b[34mCollecting gitdb<5,>=4.0.1\n",
      "  Downloading gitdb-4.0.5-py3-none-any.whl (63 kB)\u001b[0m\n",
      "\u001b[34mRequirement already satisfied: idna<3,>=2.5 in /opt/conda/lib/python3.6/site-packages (from requests<3,>=2.0.0->wandb) (2.10)\u001b[0m\n",
      "\u001b[34mRequirement already satisfied: chardet<4,>=3.0.2 in /opt/conda/lib/python3.6/site-packages (from requests<3,>=2.0.0->wandb) (3.0.4)\u001b[0m\n",
      "\u001b[34mCollecting smmap<4,>=3.0.1\n",
      "  Downloading smmap-3.0.4-py2.py3-none-any.whl (25 kB)\u001b[0m\n",
      "\u001b[34mBuilding wheels for collected packages: subprocess32, watchdog, promise\n",
      "  Building wheel for subprocess32 (setup.py): started\n",
      "  Building wheel for subprocess32 (setup.py): finished with status 'done'\n",
      "  Created wheel for subprocess32: filename=subprocess32-3.5.4-py3-none-any.whl size=6487 sha256=3a5f9984659e4e4b413e72385dfe392be3f27870c311b51e62c1501aaa5b35f5\n",
      "  Stored in directory: /root/.cache/pip/wheels/44/3a/ab/102386d84fe551b6cedb628ed1e74c5f5be76af8b909aeda09\n",
      "  Building wheel for watchdog (setup.py): started\n",
      "  Building wheel for watchdog (setup.py): finished with status 'done'\n",
      "  Created wheel for watchdog: filename=watchdog-1.0.1-py3-none-any.whl size=72206 sha256=f1b479d1513be3adb939c2b73d8d061b133b624f06f43b654b8673e5da5feb3d\n",
      "  Stored in directory: /root/.cache/pip/wheels/e0/df/95/be95c9d0751361690b6a0c0ce1b5fb059dbc6cd57fc00282c3\n",
      "  Building wheel for promise (setup.py): started\u001b[0m\n",
      "\u001b[34m  Building wheel for promise (setup.py): finished with status 'done'\n",
      "  Created wheel for promise: filename=promise-2.3-py3-none-any.whl size=21494 sha256=8d72b71803ae14480d485d28f79c2113d5a3c85b56e687b7ed89245960f2c204\n",
      "  Stored in directory: /root/.cache/pip/wheels/59/9a/1d/3f1afbbb5122d0410547bf9eb50955f4a7a98e53a6d8b99bd1\u001b[0m\n",
      "\u001b[34mSuccessfully built subprocess32 watchdog promise\u001b[0m\n",
      "\u001b[34mInstalling collected packages: sentry-sdk, subprocess32, shortuuid, watchdog, smmap, gitdb, GitPython, docker-pycreds, configparser, promise, wandb\u001b[0m\n",
      "\u001b[34mSuccessfully installed GitPython-3.1.11 configparser-5.0.1 docker-pycreds-0.4.0 gitdb-4.0.5 promise-2.3 sentry-sdk-0.19.5 shortuuid-1.0.1 smmap-3.0.4 subprocess32-3.5.4 wandb-0.10.12 watchdog-1.0.1\u001b[0m\n",
      "\u001b[34mData directory: /opt/ml/input/data/training\u001b[0m\n",
      "\u001b[34m[2020-12-10 22:35:45.566 algo-1:26 INFO utils.py:27] RULE_JOB_STOP_SIGNAL_FILENAME: None\u001b[0m\n",
      "\u001b[34m[2020-12-10 22:35:45.672 algo-1:26 INFO profiler_config_parser.py:102] User has disabled profiler.\u001b[0m\n",
      "\u001b[34m[2020-12-10 22:35:45.672 algo-1:26 INFO json_config.py:91] Creating hook from json_config at /opt/ml/input/config/debughookconfig.json.\u001b[0m\n",
      "\u001b[34m[2020-12-10 22:35:45.673 algo-1:26 INFO hook.py:199] tensorboard_dir has not been set for the hook. SMDebug will not be exporting tensorboard summaries.\u001b[0m\n",
      "\u001b[34m[2020-12-10 22:35:45.675 algo-1:26 INFO hook.py:253] Saving to /opt/ml/output/tensors\u001b[0m\n",
      "\u001b[34m[2020-12-10 22:35:45.675 algo-1:26 INFO state_store.py:67] The checkpoint config file /opt/ml/input/config/checkpointconfig.json does not exist.\u001b[0m\n",
      "\u001b[34m[2020-12-10 22:35:45.836 algo-1:26 INFO hook.py:550] name:encoder.0.weight count_params:432\u001b[0m\n",
      "\u001b[34m[2020-12-10 22:35:45.836 algo-1:26 INFO hook.py:550] name:encoder.0.bias count_params:16\u001b[0m\n",
      "\u001b[34m[2020-12-10 22:35:45.836 algo-1:26 INFO hook.py:550] name:encoder.3.weight count_params:1152\u001b[0m\n",
      "\u001b[34m[2020-12-10 22:35:45.836 algo-1:26 INFO hook.py:550] name:encoder.3.bias count_params:8\u001b[0m\n",
      "\u001b[34m[2020-12-10 22:35:45.836 algo-1:26 INFO hook.py:550] name:decoder.0.weight count_params:1152\u001b[0m\n",
      "\u001b[34m[2020-12-10 22:35:45.836 algo-1:26 INFO hook.py:550] name:decoder.0.bias count_params:16\u001b[0m\n",
      "\u001b[34m[2020-12-10 22:35:45.837 algo-1:26 INFO hook.py:550] name:decoder.2.weight count_params:3200\u001b[0m\n",
      "\u001b[34m[2020-12-10 22:35:45.837 algo-1:26 INFO hook.py:550] name:decoder.2.bias count_params:8\u001b[0m\n",
      "\u001b[34m[2020-12-10 22:35:45.837 algo-1:26 INFO hook.py:550] name:decoder.4.weight count_params:96\u001b[0m\n",
      "\u001b[34m[2020-12-10 22:35:45.837 algo-1:26 INFO hook.py:550] name:decoder.4.bias count_params:3\u001b[0m\n",
      "\u001b[34m[2020-12-10 22:35:45.837 algo-1:26 INFO hook.py:552] Total Trainable Params: 6083\u001b[0m\n",
      "\u001b[34m[2020-12-10 22:35:45.837 algo-1:26 INFO hook.py:413] Monitoring the collections: losses\u001b[0m\n",
      "\u001b[34m[2020-12-10 22:35:45.842 algo-1:26 INFO hook.py:476] Hook is writing from the hook with pid: 26\n",
      "\u001b[0m\n",
      "\u001b[34mepoch [1/500], loss:0.0899\u001b[0m\n",
      "\u001b[34mepoch [31/500], loss:0.0479\u001b[0m\n"
     ]
    }
   ],
   "source": [
    "pytorch_estimator = PyTorch('train.py',\n",
    "                            source_dir='source',\n",
    "                            instance_type='ml.m5.large',\n",
    "                            instance_count=1,\n",
    "                            framework_version='1.6.0',\n",
    "                            py_version='py3',\n",
    "                            role=role,\n",
    "                            hyperparameters = {\n",
    "                                'num-epochs': 500,\n",
    "                                'learning-rate': 0.001,\n",
    "                                'batch-size': 128,\n",
    "                                'model-name': 'model.pt'\n",
    "                            })\n",
    "pytorch_estimator.fit({'training': f's3://{BUCKET}/{DATA_PATH}/bounding_box_train'})"
   ]
  },
  {
   "cell_type": "markdown",
   "metadata": {},
   "source": [
    "# Code for testing and using the AutoEncoder"
   ]
  },
  {
   "cell_type": "code",
   "execution_count": 10,
   "metadata": {},
   "outputs": [],
   "source": [
    "import re\n",
    "import tarfile\n",
    "\n",
    "import boto3\n",
    "import matplotlib.image as mpimg\n",
    "import matplotlib.pyplot as plt\n",
    "from sklearn.metrics import classification_report\n",
    "from sklearn.neighbors import KNeighborsClassifier\n",
    "import torch\n",
    "from torch.utils.data import DataLoader, Dataset\n",
    "\n",
    "from train import AutoEncoder, get_image_transform"
   ]
  },
  {
   "cell_type": "code",
   "execution_count": 11,
   "metadata": {},
   "outputs": [],
   "source": [
    "MODEL_BUCKET = session.default_bucket()\n",
    "# Set MODEL_PATH to the model you have trained\n",
    "MODEL_PATH = Path('pytorch-training-2020-12-10-12-52-50-641/output')\n",
    "MODEL_PACKAGE = 'model.tar.gz'\n",
    "MODEL_NAME = 'model.pt'\n",
    "LOCAL_MODEL_DIRECTORY = Path('models')\n",
    "LOCAL_MODEL_DIRECTORY.mkdir(exist_ok=True)"
   ]
  },
  {
   "cell_type": "code",
   "execution_count": 12,
   "metadata": {},
   "outputs": [],
   "source": [
    "class Market1501Dataset(Dataset):\n",
    "    BUCKET_INDEX = 2\n",
    "    PATH_INDEX = 3\n",
    "    def __init__(self, directory: Path, transform=None):\n",
    "        self.directory = directory\n",
    "        self.s3 = None\n",
    "        if directory[:5] == 's3://':\n",
    "            self.s3 = boto3.client('s3')\n",
    "        self._images = None\n",
    "        if not self.s3:\n",
    "            self._images = list(self.directory.glob('*'))\n",
    "        else:\n",
    "            self._images = self.list_s3_objects()\n",
    "        self.transform = transform\n",
    "\n",
    "    def list_s3_objects(self):\n",
    "        parts = self.directory.split('/')\n",
    "        self.bucket = parts[self.BUCKET_INDEX]\n",
    "        self.directory = '/'.join(parts[self.PATH_INDEX:])\n",
    "        first = True\n",
    "        continuation_token = None\n",
    "        keys = []\n",
    "        while first or continuation_token:\n",
    "            first = False\n",
    "            if continuation_token:\n",
    "                response = self.s3.list_objects_v2(Bucket=self.bucket, Prefix=self.directory, ContinuationToken=continuation_token)\n",
    "            else:\n",
    "                response = self.s3.list_objects_v2(Bucket=self.bucket, Prefix=self.directory)\n",
    "            if 'NextContinuationToken' in response:\n",
    "                continuation_token = response['NextContinuationToken']\n",
    "            else:\n",
    "                continuation_token = None\n",
    "            keys += [item['Key'] for item in response['Contents']]\n",
    "        return keys\n",
    "    \n",
    "    def get_key(self, index):\n",
    "        return self._images[index]\n",
    "    \n",
    "    def get_s3_image(self, index: int):\n",
    "        object = self.s3.get_object(Bucket=self.bucket, Key=self._images[index])\n",
    "        return mpimg.imread(object['Body'], format='jpeg')\n",
    "\n",
    "    def __len__(self):\n",
    "        return len(self._images)\n",
    "\n",
    "    def __getitem__(self, index):\n",
    "        if torch.is_tensor(index):\n",
    "            index = int(index)\n",
    "        try:\n",
    "            if not self.s3:\n",
    "                image = io.imread(str(self._images[index]))\n",
    "            else:\n",
    "                image = self.get_s3_image(index)\n",
    "        except ValueError as e:\n",
    "            print(f'Failed with ValueError on <{self._images[index]}>')\n",
    "            raise\n",
    "\n",
    "        if not self.transform:\n",
    "            return image\n",
    "\n",
    "        return self.transform(image)"
   ]
  },
  {
   "cell_type": "code",
   "execution_count": 13,
   "metadata": {},
   "outputs": [],
   "source": [
    "s3 = boto3.client('s3')\n",
    "s3.download_file(MODEL_BUCKET, str(MODEL_PATH / MODEL_PACKAGE), str(LOCAL_MODEL_DIRECTORY / MODEL_PACKAGE))\n",
    "model_package = tarfile.open(LOCAL_MODEL_DIRECTORY / MODEL_PACKAGE, 'r:gz')\n",
    "model_package.extract(MODEL_NAME, LOCAL_MODEL_DIRECTORY)"
   ]
  },
  {
   "cell_type": "code",
   "execution_count": 14,
   "metadata": {},
   "outputs": [
    {
     "data": {
      "text/plain": [
       "<torch.autograd.grad_mode.no_grad at 0x7f1975d939d0>"
      ]
     },
     "execution_count": 14,
     "metadata": {},
     "output_type": "execute_result"
    }
   ],
   "source": [
    "model = AutoEncoder()\n",
    "model.load_state_dict(torch.load(LOCAL_MODEL_DIRECTORY / MODEL_NAME))\n",
    "model.eval()\n",
    "torch.no_grad()"
   ]
  },
  {
   "cell_type": "code",
   "execution_count": 15,
   "metadata": {},
   "outputs": [],
   "source": [
    "image_transform = get_image_transform()\n",
    "testset = Market1501Dataset(f's3://{BUCKET}/{DATA_PATH}/bounding_box_test', transform=image_transform)\n",
    "test_loader = DataLoader(testset, batch_size=1, shuffle=False)\n",
    "trainset = Market1501Dataset(f's3://{BUCKET}/{DATA_PATH}/bounding_box_train', transform=image_transform)\n",
    "train_loader = DataLoader(trainset, batch_size=1, shuffle=False)"
   ]
  },
  {
   "cell_type": "markdown",
   "metadata": {},
   "source": [
    "Encode all the train and test images"
   ]
  },
  {
   "cell_type": "code",
   "execution_count": 16,
   "metadata": {},
   "outputs": [],
   "source": [
    "device = torch.device(\"cuda\" if torch.cuda.is_available() else \"cpu\")\n",
    "X = {\n",
    "    'train': [],\n",
    "     'test': []\n",
    "}\n",
    "y = {\n",
    "    'train': [],\n",
    "     'test': []\n",
    "}\n",
    "for i, images in enumerate(train_loader):\n",
    "    key = trainset.get_key(i)\n",
    "    features = images.to(device)\n",
    "    code = model.encode(features)\n",
    "    X['train'].append(code[0].view(400).detach().numpy())\n",
    "    y['train'].append(key)"
   ]
  },
  {
   "cell_type": "code",
   "execution_count": 17,
   "metadata": {},
   "outputs": [],
   "source": [
    "X['test'] = []\n",
    "y['test'] = []\n",
    "\n",
    "for i, images in enumerate(test_loader):\n",
    "    key = testset.get_key(i)\n",
    "    features = images.to(device)\n",
    "    code = model.encode(features)\n",
    "    X['test'].append(code[0].view(400).detach().numpy())\n",
    "    y['test'].append(key)"
   ]
  },
  {
   "cell_type": "code",
   "execution_count": 18,
   "metadata": {},
   "outputs": [],
   "source": [
    "y_index = {}\n",
    "y_index['train'] = [i for i in range(len(y['train']))]\n",
    "y_index['test'] = [i for i in range(len(y['test']))]"
   ]
  },
  {
   "cell_type": "markdown",
   "metadata": {},
   "source": [
    "## Train a kNN on the training set to check the accuracy"
   ]
  },
  {
   "cell_type": "code",
   "execution_count": 19,
   "metadata": {},
   "outputs": [
    {
     "data": {
      "text/plain": [
       "KNeighborsClassifier(algorithm='auto', leaf_size=30, metric='minkowski',\n",
       "                     metric_params=None, n_jobs=None, n_neighbors=1, p=2,\n",
       "                     weights='uniform')"
      ]
     },
     "execution_count": 19,
     "metadata": {},
     "output_type": "execute_result"
    }
   ],
   "source": [
    "targeter = KNeighborsClassifier(n_neighbors=1)\n",
    "targeter.fit(X['train'], y_index['train'])"
   ]
  },
  {
   "cell_type": "code",
   "execution_count": 20,
   "metadata": {},
   "outputs": [],
   "source": [
    "y_pred = {}\n",
    "y_pred['train'] = [int(targeter.predict(x.reshape(1, -1))[0]) for x in X['train']]\n",
    "y_pred['test'] = [int(targeter.predict(x.reshape(1, -1))[0]) for x in X['test']]"
   ]
  },
  {
   "cell_type": "code",
   "execution_count": 21,
   "metadata": {},
   "outputs": [],
   "source": [
    "train_report = classification_report(y_index['train'], y_pred['train'], output_dict=True)"
   ]
  },
  {
   "cell_type": "code",
   "execution_count": 22,
   "metadata": {},
   "outputs": [
    {
     "data": {
      "text/plain": [
       "1.0"
      ]
     },
     "execution_count": 22,
     "metadata": {},
     "output_type": "execute_result"
    }
   ],
   "source": [
    "train_report['accuracy']"
   ]
  },
  {
   "cell_type": "markdown",
   "metadata": {},
   "source": [
    "## Train a kNN on the test set and check the accuracy."
   ]
  },
  {
   "cell_type": "code",
   "execution_count": 23,
   "metadata": {},
   "outputs": [
    {
     "data": {
      "text/plain": [
       "KNeighborsClassifier(algorithm='auto', leaf_size=30, metric='minkowski',\n",
       "                     metric_params=None, n_jobs=None, n_neighbors=1, p=2,\n",
       "                     weights='uniform')"
      ]
     },
     "execution_count": 23,
     "metadata": {},
     "output_type": "execute_result"
    }
   ],
   "source": [
    "test_targeter = KNeighborsClassifier(n_neighbors=1)\n",
    "test_targeter.fit(X['test'], y_index['test'])"
   ]
  },
  {
   "cell_type": "code",
   "execution_count": 24,
   "metadata": {},
   "outputs": [],
   "source": [
    "y_pred['test'] = [int(test_targeter.predict(x.reshape(1, -1))[0]) for x in X['test']]"
   ]
  },
  {
   "cell_type": "code",
   "execution_count": 25,
   "metadata": {},
   "outputs": [
    {
     "data": {
      "text/plain": [
       "1.0"
      ]
     },
     "execution_count": 25,
     "metadata": {},
     "output_type": "execute_result"
    }
   ],
   "source": [
    "test_report = classification_report(y_index['test'], y_pred['test'], output_dict=True)\n",
    "test_report['accuracy']"
   ]
  },
  {
   "cell_type": "markdown",
   "metadata": {},
   "source": [
    "## Test the kNN trained on the test set on the queryset "
   ]
  },
  {
   "cell_type": "code",
   "execution_count": 26,
   "metadata": {},
   "outputs": [],
   "source": [
    "X['query'] = []\n",
    "y['query'] = []\n",
    "queryset = Market1501Dataset(f's3://{BUCKET}/{DATA_PATH}/query', transform=image_transform)\n",
    "query_loader = DataLoader(queryset, batch_size=1, shuffle=False)\n",
    "for i, images in enumerate(query_loader):\n",
    "    key = queryset.get_key(i)\n",
    "    features = images.to(device)\n",
    "    code = model.encode(features)\n",
    "    X['query'].append(code[0].view(400).detach().numpy())\n",
    "    y['query'].append(key)"
   ]
  },
  {
   "cell_type": "code",
   "execution_count": 27,
   "metadata": {},
   "outputs": [],
   "source": [
    "y_pred['query'] = [int(test_targeter.predict(x.reshape(1, -1))[0]) for x in X['query']]"
   ]
  },
  {
   "cell_type": "markdown",
   "metadata": {},
   "source": [
    "## Test with PIDs\n",
    "\n",
    "The PID is the person identifier which is embedded in the filename"
   ]
  },
  {
   "cell_type": "code",
   "execution_count": 30,
   "metadata": {},
   "outputs": [],
   "source": [
    "PATTERN = re.compile(r'([-\\d]+)_c(\\d)')\n",
    "def pid_finder(filename):\n",
    "    pid, _ = map(int, PATTERN.search(filename).groups())\n",
    "    return pid"
   ]
  },
  {
   "cell_type": "code",
   "execution_count": 31,
   "metadata": {},
   "outputs": [],
   "source": [
    "y_pid = {\n",
    "    'query': [pid_finder(filename) for filename in y['query']],\n",
    "    'test': [pid_finder(filename) for filename in y['test']]\n",
    "}"
   ]
  },
  {
   "cell_type": "code",
   "execution_count": 32,
   "metadata": {},
   "outputs": [],
   "source": [
    "result_tuples = []\n",
    "for i, predicted_index in enumerate(y_pred['query']):\n",
    "    predicted_pid = pid_finder(y['test'][predicted_index])\n",
    "    pid = y_pid['query'][i]\n",
    "    result_tuples.append((pid, predicted_pid))"
   ]
  },
  {
   "cell_type": "code",
   "execution_count": 33,
   "metadata": {},
   "outputs": [],
   "source": [
    "expected = [row[0] for row in result_tuples]\n",
    "actual = [row[1] for row in result_tuples]"
   ]
  },
  {
   "cell_type": "code",
   "execution_count": 34,
   "metadata": {},
   "outputs": [
    {
     "data": {
      "text/plain": [
       "0.6802256532066508"
      ]
     },
     "execution_count": 34,
     "metadata": {},
     "output_type": "execute_result"
    }
   ],
   "source": [
    "query_results = classification_report(expected, actual, output_dict=True)\n",
    "query_results['accuracy']"
   ]
  },
  {
   "cell_type": "markdown",
   "metadata": {},
   "source": [
    "Accuracy is the same as rank-1 score"
   ]
  },
  {
   "cell_type": "code",
   "execution_count": 35,
   "metadata": {},
   "outputs": [
    {
     "data": {
      "text/plain": [
       "0.6802256532066508"
      ]
     },
     "execution_count": 35,
     "metadata": {},
     "output_type": "execute_result"
    }
   ],
   "source": [
    "query_results['accuracy']"
   ]
  },
  {
   "cell_type": "code",
   "execution_count": 36,
   "metadata": {},
   "outputs": [
    {
     "name": "stdout",
     "output_type": "stream",
     "text": [
      "rank-1: 0.6802256532066508\n"
     ]
    }
   ],
   "source": [
    "number_of_correct = 0\n",
    "total_number = 0\n",
    "for row in result_tuples:\n",
    "    expected = row[0]\n",
    "    actual = row[1]\n",
    "    if expected == actual:\n",
    "        number_of_correct += 1\n",
    "    total_number += 1\n",
    "print(f'rank-1: {float(number_of_correct) / total_number}')"
   ]
  },
  {
   "cell_type": "markdown",
   "metadata": {},
   "source": [
    "Let's check the result on a random person identifier"
   ]
  },
  {
   "cell_type": "markdown",
   "metadata": {},
   "source": [
    "The Macro Average Precision is mAP (mean Average Precision)"
   ]
  },
  {
   "cell_type": "code",
   "execution_count": 37,
   "metadata": {},
   "outputs": [
    {
     "data": {
      "text/plain": [
       "{'precision': 0.7813895456945362,\n",
       " 'recall': 0.6755984042553191,\n",
       " 'f1-score': 0.6941265140184637,\n",
       " 'support': 3368}"
      ]
     },
     "execution_count": 37,
     "metadata": {},
     "output_type": "execute_result"
    }
   ],
   "source": [
    "query_results['macro avg']"
   ]
  },
  {
   "cell_type": "code",
   "execution_count": 38,
   "metadata": {},
   "outputs": [
    {
     "data": {
      "text/plain": [
       "{'precision': 0.7804660224581281,\n",
       " 'recall': 0.6802256532066508,\n",
       " 'f1-score': 0.6969085881390867,\n",
       " 'support': 3368}"
      ]
     },
     "execution_count": 38,
     "metadata": {},
     "output_type": "execute_result"
    }
   ],
   "source": [
    "query_results['weighted avg']"
   ]
  },
  {
   "cell_type": "code",
   "execution_count": null,
   "metadata": {},
   "outputs": [],
   "source": []
  }
 ],
 "metadata": {
  "instance_type": "ml.t3.medium",
  "kernelspec": {
   "display_name": "Python 3 (Data Science)",
   "language": "python",
   "name": "python3__SAGEMAKER_INTERNAL__arn:aws:sagemaker:eu-west-1:470317259841:image/datascience-1.0"
  },
  "language_info": {
   "codemirror_mode": {
    "name": "ipython",
    "version": 3
   },
   "file_extension": ".py",
   "mimetype": "text/x-python",
   "name": "python",
   "nbconvert_exporter": "python",
   "pygments_lexer": "ipython3",
   "version": "3.7.6"
  }
 },
 "nbformat": 4,
 "nbformat_minor": 4
}