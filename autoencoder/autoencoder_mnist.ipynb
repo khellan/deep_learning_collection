{
  "nbformat": 4,
  "nbformat_minor": 0,
  "metadata": {
    "colab": {
      "name": "autoencoder.mnist.ipynb",
      "provenance": [],
      "collapsed_sections": []
    },
    "kernelspec": {
      "display_name": "Python 3",
      "name": "python3"
    }
  },
  "cells": [
    {
      "cell_type": "code",
      "metadata": {
        "colab": {
          "base_uri": "https://localhost:8080/"
        },
        "id": "VssMZBX4JOld",
        "outputId": "66f55ba0-85b3-47a9-b9e1-8231861e21b4"
      },
      "source": [
        "!pip install wandb"
      ],
      "execution_count": 1,
      "outputs": [
        {
          "output_type": "stream",
          "text": [
            "Collecting wandb\n",
            "\u001b[?25l  Downloading https://files.pythonhosted.org/packages/93/7c/bf3cba8513f02c92fff0f0dab49846f1aa3da93c71fb4de7f34f501d15f0/wandb-0.10.11-py2.py3-none-any.whl (1.8MB)\n",
            "\u001b[K     |████████████████████████████████| 1.8MB 5.4MB/s \n",
            "\u001b[?25hCollecting configparser>=3.8.1\n",
            "  Downloading https://files.pythonhosted.org/packages/08/b2/ef713e0e67f6e7ec7d59aea3ee78d05b39c15930057e724cc6d362a8c3bb/configparser-5.0.1-py3-none-any.whl\n",
            "Requirement already satisfied: psutil>=5.0.0 in /usr/local/lib/python3.6/dist-packages (from wandb) (5.4.8)\n",
            "Requirement already satisfied: protobuf>=3.12.0 in /usr/local/lib/python3.6/dist-packages (from wandb) (3.12.4)\n",
            "Requirement already satisfied: requests<3,>=2.0.0 in /usr/local/lib/python3.6/dist-packages (from wandb) (2.23.0)\n",
            "Collecting subprocess32>=3.5.3\n",
            "\u001b[?25l  Downloading https://files.pythonhosted.org/packages/32/c8/564be4d12629b912ea431f1a50eb8b3b9d00f1a0b1ceff17f266be190007/subprocess32-3.5.4.tar.gz (97kB)\n",
            "\u001b[K     |████████████████████████████████| 102kB 8.6MB/s \n",
            "\u001b[?25hCollecting docker-pycreds>=0.4.0\n",
            "  Downloading https://files.pythonhosted.org/packages/f5/e8/f6bd1eee09314e7e6dee49cbe2c5e22314ccdb38db16c9fc72d2fa80d054/docker_pycreds-0.4.0-py2.py3-none-any.whl\n",
            "Requirement already satisfied: six>=1.13.0 in /usr/local/lib/python3.6/dist-packages (from wandb) (1.15.0)\n",
            "Requirement already satisfied: PyYAML in /usr/local/lib/python3.6/dist-packages (from wandb) (3.13)\n",
            "Collecting shortuuid>=0.5.0\n",
            "  Downloading https://files.pythonhosted.org/packages/25/a6/2ecc1daa6a304e7f1b216f0896b26156b78e7c38e1211e9b798b4716c53d/shortuuid-1.0.1-py3-none-any.whl\n",
            "Requirement already satisfied: python-dateutil>=2.6.1 in /usr/local/lib/python3.6/dist-packages (from wandb) (2.8.1)\n",
            "Requirement already satisfied: Click>=7.0 in /usr/local/lib/python3.6/dist-packages (from wandb) (7.1.2)\n",
            "Requirement already satisfied: promise<3,>=2.0 in /usr/local/lib/python3.6/dist-packages (from wandb) (2.3)\n",
            "Collecting GitPython>=1.0.0\n",
            "\u001b[?25l  Downloading https://files.pythonhosted.org/packages/24/d1/a7f8fe3df258549b303415157328bfcc63e9b11d06a7ad7a3327f3d32606/GitPython-3.1.11-py3-none-any.whl (159kB)\n",
            "\u001b[K     |████████████████████████████████| 163kB 40.8MB/s \n",
            "\u001b[?25hCollecting sentry-sdk>=0.4.0\n",
            "\u001b[?25l  Downloading https://files.pythonhosted.org/packages/61/e1/3a9f8ca1009fc6a1e850801f2386e9d88b95147218cbe8c33bc4d60b3695/sentry_sdk-0.19.4-py2.py3-none-any.whl (128kB)\n",
            "\u001b[K     |████████████████████████████████| 133kB 33.4MB/s \n",
            "\u001b[?25hCollecting watchdog>=0.8.3\n",
            "\u001b[?25l  Downloading https://files.pythonhosted.org/packages/6f/10/500580a0987363a0d9e1f3dd5cb1bba94a47e19266c6ce9dfb6cdd455758/watchdog-0.10.4.tar.gz (98kB)\n",
            "\u001b[K     |████████████████████████████████| 102kB 10.5MB/s \n",
            "\u001b[?25hRequirement already satisfied: setuptools in /usr/local/lib/python3.6/dist-packages (from protobuf>=3.12.0->wandb) (50.3.2)\n",
            "Requirement already satisfied: urllib3!=1.25.0,!=1.25.1,<1.26,>=1.21.1 in /usr/local/lib/python3.6/dist-packages (from requests<3,>=2.0.0->wandb) (1.24.3)\n",
            "Requirement already satisfied: chardet<4,>=3.0.2 in /usr/local/lib/python3.6/dist-packages (from requests<3,>=2.0.0->wandb) (3.0.4)\n",
            "Requirement already satisfied: certifi>=2017.4.17 in /usr/local/lib/python3.6/dist-packages (from requests<3,>=2.0.0->wandb) (2020.11.8)\n",
            "Requirement already satisfied: idna<3,>=2.5 in /usr/local/lib/python3.6/dist-packages (from requests<3,>=2.0.0->wandb) (2.10)\n",
            "Collecting gitdb<5,>=4.0.1\n",
            "\u001b[?25l  Downloading https://files.pythonhosted.org/packages/48/11/d1800bca0a3bae820b84b7d813ad1eff15a48a64caea9c823fc8c1b119e8/gitdb-4.0.5-py3-none-any.whl (63kB)\n",
            "\u001b[K     |████████████████████████████████| 71kB 8.4MB/s \n",
            "\u001b[?25hCollecting pathtools>=0.1.1\n",
            "  Downloading https://files.pythonhosted.org/packages/e7/7f/470d6fcdf23f9f3518f6b0b76be9df16dcc8630ad409947f8be2eb0ed13a/pathtools-0.1.2.tar.gz\n",
            "Collecting smmap<4,>=3.0.1\n",
            "  Downloading https://files.pythonhosted.org/packages/b0/9a/4d409a6234eb940e6a78dfdfc66156e7522262f5f2fecca07dc55915952d/smmap-3.0.4-py2.py3-none-any.whl\n",
            "Building wheels for collected packages: subprocess32, watchdog, pathtools\n",
            "  Building wheel for subprocess32 (setup.py) ... \u001b[?25l\u001b[?25hdone\n",
            "  Created wheel for subprocess32: filename=subprocess32-3.5.4-cp36-none-any.whl size=6489 sha256=40f831385a9c5625feeac3df14c60714c087a3556185fa682c31edf42c0a2b81\n",
            "  Stored in directory: /root/.cache/pip/wheels/68/39/1a/5e402bdfdf004af1786c8b853fd92f8c4a04f22aad179654d1\n",
            "  Building wheel for watchdog (setup.py) ... \u001b[?25l\u001b[?25hdone\n",
            "  Created wheel for watchdog: filename=watchdog-0.10.4-cp36-none-any.whl size=74841 sha256=ab9bcf604b0822349ba0df3de4d65df6142ba75b7b5e922b7c229809a16fba72\n",
            "  Stored in directory: /root/.cache/pip/wheels/9e/11/04/5160b8815b0cc7cf574bdc6d053e510169ec264c8791b4ec3a\n",
            "  Building wheel for pathtools (setup.py) ... \u001b[?25l\u001b[?25hdone\n",
            "  Created wheel for pathtools: filename=pathtools-0.1.2-cp36-none-any.whl size=8785 sha256=b29e28c513a82a03fe5e3689347c4b7aa793a038b4667f59f5923564d773bee1\n",
            "  Stored in directory: /root/.cache/pip/wheels/0b/04/79/c3b0c3a0266a3cb4376da31e5bfe8bba0c489246968a68e843\n",
            "Successfully built subprocess32 watchdog pathtools\n",
            "Installing collected packages: configparser, subprocess32, docker-pycreds, shortuuid, smmap, gitdb, GitPython, sentry-sdk, pathtools, watchdog, wandb\n",
            "Successfully installed GitPython-3.1.11 configparser-5.0.1 docker-pycreds-0.4.0 gitdb-4.0.5 pathtools-0.1.2 sentry-sdk-0.19.4 shortuuid-1.0.1 smmap-3.0.4 subprocess32-3.5.4 wandb-0.10.11 watchdog-0.10.4\n"
          ],
          "name": "stdout"
        }
      ]
    },
    {
      "cell_type": "code",
      "metadata": {
        "id": "Mm7fT4-1bYqL"
      },
      "source": [
        "from pathlib import Path\n",
        "import torchvision\n",
        "from torch import nn\n",
        "from google.colab import drive\n",
        "import torch\n",
        "from torch import optim"
      ],
      "execution_count": 3,
      "outputs": []
    },
    {
      "cell_type": "code",
      "metadata": {
        "colab": {
          "base_uri": "https://localhost:8080/"
        },
        "id": "qBiPRq6iLrmi",
        "outputId": "118cf067-1244-4e01-f7c6-2db7994a5e22"
      },
      "source": [
        "import wandb\n",
        "!wandb login"
      ],
      "execution_count": null,
      "outputs": [
        {
          "output_type": "stream",
          "text": [
            "\u001b[34m\u001b[1mwandb\u001b[0m: You can find your API key in your browser here: https://wandb.ai/authorize\n",
            "\u001b[34m\u001b[1mwandb\u001b[0m: Paste an API key from your profile and hit enter: \n",
            "\u001b[34m\u001b[1mwandb\u001b[0m: Appending key for api.wandb.ai to your netrc file: /root/.netrc\n"
          ],
          "name": "stdout"
        }
      ]
    },
    {
      "cell_type": "code",
      "metadata": {
        "colab": {
          "base_uri": "https://localhost:8080/"
        },
        "id": "Gv_2atgsbem5",
        "outputId": "5158135f-55c2-43ad-c8ff-77e36631dead"
      },
      "source": [
        "drive.mount('/content/drive')"
      ],
      "execution_count": 4,
      "outputs": [
        {
          "output_type": "stream",
          "text": [
            "Mounted at /content/drive\n"
          ],
          "name": "stdout"
        }
      ]
    },
    {
      "cell_type": "code",
      "metadata": {
        "id": "2mr1pbCVb-ij"
      },
      "source": [
        "BASE_PATH = Path('drive/My Drive/Colab Notebooks')\n",
        "SAVE_PATH = BASE_PATH / 'models' / 'mnist_ae'\n",
        "SAVE_PATH.mkdir(exist_ok=True)\n",
        "DATA_PATH = BASE_PATH / 'data/mnist'\n",
        "EMBEDDING_SIZE = 784"
      ],
      "execution_count": 82,
      "outputs": []
    },
    {
      "cell_type": "code",
      "metadata": {
        "id": "SahoMHT4cQ0B"
      },
      "source": [
        "class AutoEncoder(nn.Module):\n",
        "    def __init__(self, **kwargs):\n",
        "        super().__init__()\n",
        "        self.encoder_hidden_layer = nn.Linear(\n",
        "            in_features=kwargs[\"input_shape\"], out_features=128\n",
        "        )\n",
        "        self.encoder_output_layer = nn.Linear(\n",
        "            in_features=128, out_features=128\n",
        "        )\n",
        "        self.decoder_hidden_layer = nn.Linear(\n",
        "            in_features=128, out_features=128\n",
        "        )\n",
        "        self.decoder_output_layer = nn.Linear(\n",
        "            in_features=128, out_features=kwargs[\"input_shape\"]\n",
        "        )\n",
        "\n",
        "    def encode(self, features):\n",
        "        activation = self.encoder_hidden_layer(features)\n",
        "        activation = torch.relu(activation)\n",
        "        code = self.encoder_output_layer(activation)\n",
        "        code = torch.relu(code)\n",
        "        return code\n",
        "\n",
        "    def decode(self, code):\n",
        "        activation = self.decoder_hidden_layer(code)\n",
        "        activation = torch.relu(activation)\n",
        "        activation = self.decoder_output_layer(activation)\n",
        "        reconstructed = torch.relu(activation)\n",
        "        return reconstructed\n",
        "\n",
        "\n",
        "    def forward(self, features):\n",
        "        code = self.encode(features)\n",
        "        reconstructed = self.decode(code)\n",
        "        return reconstructed"
      ],
      "execution_count": 6,
      "outputs": []
    },
    {
      "cell_type": "code",
      "metadata": {
        "id": "a7ueuJUAcVwx"
      },
      "source": [
        "class Trainer:\n",
        "    def __init__(self, dataset_path):\n",
        "        self.dataset_path = dataset_path\n",
        "        self.transform = torchvision.transforms.Compose([torchvision.transforms.ToTensor()])\n",
        "\n",
        "    def load_datasets(self):\n",
        "        train_dataset = torchvision.datasets.MNIST(\n",
        "            root=self.dataset_path, train=True, transform=self.transform, download=True\n",
        "        )\n",
        "\n",
        "        test_dataset = torchvision.datasets.MNIST(\n",
        "            root=self.dataset_path, train=False, transform=self.transform, download=True\n",
        "        )\n",
        "\n",
        "        self.train_loader = torch.utils.data.DataLoader(\n",
        "            train_dataset, batch_size=128, shuffle=True, num_workers=4, pin_memory=True\n",
        "        )\n",
        "\n",
        "        self.test_loader = torch.utils.data.DataLoader(\n",
        "            test_dataset, batch_size=32, shuffle=False, num_workers=4\n",
        "        )\n",
        "\n",
        "    def train(self, epochs):\n",
        "        #  use gpu if available\n",
        "        device = torch.device(\"cuda\" if torch.cuda.is_available() else \"cpu\")\n",
        "\n",
        "        # create a model from AutoEncoder class\n",
        "        # load it to the specified device, either gpu or cpu\n",
        "        model = AutoEncoder(input_shape=784).to(device)\n",
        "\n",
        "        # create an optimizer object\n",
        "        # Adam optimizer with learning rate 1e-3\n",
        "        optimizer = optim.Adam(model.parameters(), lr=1e-3)\n",
        "\n",
        "        # mean-squared error loss\n",
        "        criterion = nn.MSELoss()\n",
        "\n",
        "        for epoch in range(epochs):\n",
        "            loss = 0\n",
        "            for batch_features, _ in self.train_loader:\n",
        "                # reshape mini-batch data to [N, 784] matrix\n",
        "                # load it to the active device\n",
        "                batch_features = batch_features.view(-1, EMBEDDING_SIZE).to(device)\n",
        "                \n",
        "                # reset the gradients back to zero\n",
        "                # PyTorch accumulates gradients on subsequent backward passes\n",
        "                optimizer.zero_grad()\n",
        "                \n",
        "                # compute reconstructions\n",
        "                outputs = model(batch_features)\n",
        "                \n",
        "                # compute training reconstruction loss\n",
        "                train_loss = criterion(outputs, batch_features)\n",
        "                \n",
        "                # compute accumulated gradients\n",
        "                train_loss.backward()\n",
        "                \n",
        "                # perform parameter update based on current gradients\n",
        "                optimizer.step()\n",
        "                \n",
        "                # add the mini-batch training loss to epoch loss\n",
        "                loss += train_loss.item()\n",
        "            \n",
        "            # compute the epoch training loss\n",
        "            loss = loss / len(self.train_loader)\n",
        "            \n",
        "            # display the epoch training loss\n",
        "            print(\"epoch : {}/{}, loss = {:.6f}\".format(epoch + 1, epochs, loss))\n",
        "            wandb.log({'Training loss': round(loss, 5)})\n",
        "        return model"
      ],
      "execution_count": 7,
      "outputs": []
    },
    {
      "cell_type": "code",
      "metadata": {
        "id": "h5tb9J4LcYgZ"
      },
      "source": [
        "trainer = Trainer(DATA_PATH)"
      ],
      "execution_count": 8,
      "outputs": []
    },
    {
      "cell_type": "code",
      "metadata": {
        "id": "Hy9oXvRKdS5z"
      },
      "source": [
        "trainer.load_datasets()"
      ],
      "execution_count": 9,
      "outputs": []
    },
    {
      "cell_type": "code",
      "metadata": {
        "colab": {
          "base_uri": "https://localhost:8080/",
          "height": 603
        },
        "id": "CeIUYWZzL5_q",
        "outputId": "81a98a30-e1f4-4ef5-da58-df17df1aa8e5"
      },
      "source": [
        "wandb.init('autoencoder-mnist')"
      ],
      "execution_count": null,
      "outputs": [
        {
          "output_type": "stream",
          "text": [
            "\u001b[34m\u001b[1mwandb\u001b[0m: Currently logged in as: \u001b[33mkhellan\u001b[0m (use `wandb login --relogin` to force relogin)\n"
          ],
          "name": "stderr"
        },
        {
          "output_type": "display_data",
          "data": {
            "text/html": [
              "\n",
              "                Tracking run with wandb version 0.10.11<br/>\n",
              "                Syncing run <strong style=\"color:#cdcd00\">swift-pond-1</strong> to <a href=\"https://wandb.ai\" target=\"_blank\">Weights & Biases</a> <a href=\"https://docs.wandb.com/integrations/jupyter.html\" target=\"_blank\">(Documentation)</a>.<br/>\n",
              "                Project page: <a href=\"https://wandb.ai/khellan/uncategorized\" target=\"_blank\">https://wandb.ai/khellan/uncategorized</a><br/>\n",
              "                Run page: <a href=\"https://wandb.ai/khellan/uncategorized/runs/145wh3et\" target=\"_blank\">https://wandb.ai/khellan/uncategorized/runs/145wh3et</a><br/>\n",
              "                Run data is saved locally in <code>/content/wandb/run-20201126_105556-145wh3et</code><br/><br/>\n",
              "            "
            ],
            "text/plain": [
              "<IPython.core.display.HTML object>"
            ]
          },
          "metadata": {
            "tags": []
          }
        },
        {
          "output_type": "execute_result",
          "data": {
            "text/html": [
              "<h1>Run(145wh3et)</h1><p></p><iframe src=\"https://wandb.ai/khellan/uncategorized/runs/145wh3et\" style=\"border:none;width:100%;height:400px\"></iframe>"
            ],
            "text/plain": [
              "<wandb.sdk.wandb_run.Run at 0x7f50fbd44c18>"
            ]
          },
          "metadata": {
            "tags": []
          },
          "execution_count": 15
        }
      ]
    },
    {
      "cell_type": "code",
      "metadata": {
        "colab": {
          "background_save": true,
          "base_uri": "https://localhost:8080/"
        },
        "id": "Kr9tCQGDcohG",
        "outputId": "8e1dac87-6696-4061-805c-9e1937893110"
      },
      "source": [
        "model = trainer.train(100)\n",
        "torch.save(model.state_dict(), SAVE_PATH / '20201125_000')"
      ],
      "execution_count": null,
      "outputs": [
        {
          "output_type": "stream",
          "text": [
            "epoch : 1/100, loss = 0.032180\n",
            "epoch : 2/100, loss = 0.017928\n",
            "epoch : 3/100, loss = 0.015383\n",
            "epoch : 4/100, loss = 0.014362\n",
            "epoch : 5/100, loss = 0.013753\n",
            "epoch : 6/100, loss = 0.013338\n",
            "epoch : 7/100, loss = 0.013025\n",
            "epoch : 8/100, loss = 0.012774\n",
            "epoch : 9/100, loss = 0.012554\n",
            "epoch : 10/100, loss = 0.012359\n",
            "epoch : 11/100, loss = 0.012214\n",
            "epoch : 12/100, loss = 0.012062\n",
            "epoch : 13/100, loss = 0.011945\n",
            "epoch : 14/100, loss = 0.011849\n",
            "epoch : 15/100, loss = 0.011760\n",
            "epoch : 16/100, loss = 0.011680\n",
            "epoch : 17/100, loss = 0.011607\n",
            "epoch : 18/100, loss = 0.011540\n",
            "epoch : 19/100, loss = 0.011491\n",
            "epoch : 20/100, loss = 0.011439\n",
            "epoch : 21/100, loss = 0.011389\n",
            "epoch : 22/100, loss = 0.011347\n",
            "epoch : 23/100, loss = 0.011292\n",
            "epoch : 24/100, loss = 0.011259\n",
            "epoch : 25/100, loss = 0.011209\n",
            "epoch : 26/100, loss = 0.011174\n",
            "epoch : 27/100, loss = 0.011131\n",
            "epoch : 28/100, loss = 0.011097\n",
            "epoch : 29/100, loss = 0.011067\n",
            "epoch : 30/100, loss = 0.011040\n",
            "epoch : 31/100, loss = 0.011004\n",
            "epoch : 32/100, loss = 0.010978\n",
            "epoch : 33/100, loss = 0.010956\n",
            "epoch : 34/100, loss = 0.010932\n",
            "epoch : 35/100, loss = 0.010902\n",
            "epoch : 36/100, loss = 0.010893\n",
            "epoch : 37/100, loss = 0.010871\n",
            "epoch : 38/100, loss = 0.010851\n",
            "epoch : 39/100, loss = 0.010839\n",
            "epoch : 40/100, loss = 0.010820\n",
            "epoch : 41/100, loss = 0.010809\n",
            "epoch : 42/100, loss = 0.010791\n",
            "epoch : 43/100, loss = 0.010780\n",
            "epoch : 44/100, loss = 0.010763\n",
            "epoch : 45/100, loss = 0.010751\n",
            "epoch : 46/100, loss = 0.010736\n",
            "epoch : 47/100, loss = 0.010726\n",
            "epoch : 48/100, loss = 0.010709\n",
            "epoch : 49/100, loss = 0.010708\n",
            "epoch : 50/100, loss = 0.010691\n",
            "epoch : 51/100, loss = 0.010682\n",
            "epoch : 52/100, loss = 0.010669\n",
            "epoch : 53/100, loss = 0.010660\n",
            "epoch : 54/100, loss = 0.010651\n",
            "epoch : 55/100, loss = 0.010639\n",
            "epoch : 56/100, loss = 0.010629\n",
            "epoch : 57/100, loss = 0.010624\n",
            "epoch : 58/100, loss = 0.010609\n",
            "epoch : 59/100, loss = 0.010611\n",
            "epoch : 60/100, loss = 0.010594\n",
            "epoch : 61/100, loss = 0.010589\n",
            "epoch : 62/100, loss = 0.010575\n",
            "epoch : 63/100, loss = 0.010575\n",
            "epoch : 64/100, loss = 0.010573\n",
            "epoch : 65/100, loss = 0.010562\n",
            "epoch : 66/100, loss = 0.010556\n",
            "epoch : 67/100, loss = 0.010550\n",
            "epoch : 68/100, loss = 0.010543\n",
            "epoch : 69/100, loss = 0.010543\n",
            "epoch : 70/100, loss = 0.010536\n",
            "epoch : 71/100, loss = 0.010528\n",
            "epoch : 72/100, loss = 0.010519\n",
            "epoch : 73/100, loss = 0.010516\n",
            "epoch : 74/100, loss = 0.010512\n",
            "epoch : 75/100, loss = 0.010507\n",
            "epoch : 76/100, loss = 0.010494\n",
            "epoch : 77/100, loss = 0.010492\n",
            "epoch : 78/100, loss = 0.010490\n",
            "epoch : 79/100, loss = 0.010484\n",
            "epoch : 80/100, loss = 0.010482\n",
            "epoch : 81/100, loss = 0.010467\n",
            "epoch : 82/100, loss = 0.010469\n",
            "epoch : 83/100, loss = 0.010468\n",
            "epoch : 84/100, loss = 0.010470\n",
            "epoch : 85/100, loss = 0.010460\n",
            "epoch : 86/100, loss = 0.010457\n",
            "epoch : 87/100, loss = 0.010454\n",
            "epoch : 88/100, loss = 0.010454\n",
            "epoch : 89/100, loss = 0.010450\n",
            "epoch : 90/100, loss = 0.010447\n",
            "epoch : 91/100, loss = 0.010445\n",
            "epoch : 92/100, loss = 0.010442\n",
            "epoch : 93/100, loss = 0.010442\n",
            "epoch : 94/100, loss = 0.010443\n",
            "epoch : 95/100, loss = 0.010433\n",
            "epoch : 96/100, loss = 0.010435\n",
            "epoch : 97/100, loss = 0.010437\n",
            "epoch : 98/100, loss = 0.010433\n",
            "epoch : 99/100, loss = 0.010430\n",
            "epoch : 100/100, loss = 0.010425\n"
          ],
          "name": "stdout"
        }
      ]
    },
    {
      "cell_type": "code",
      "metadata": {
        "id": "a8T4XdXm-5d5"
      },
      "source": [
        ""
      ],
      "execution_count": null,
      "outputs": []
    },
    {
      "cell_type": "markdown",
      "metadata": {
        "id": "yhy1AjOt-_1f"
      },
      "source": [
        "# Code for using and testing the Encoder"
      ]
    },
    {
      "cell_type": "code",
      "metadata": {
        "id": "TlXyvJ4lc9lX",
        "colab": {
          "base_uri": "https://localhost:8080/"
        },
        "outputId": "adcf1351-bc70-4834-9730-7058dddde9b4"
      },
      "source": [
        "model = AutoEncoder(input_shape=784)\n",
        "model.load_state_dict(torch.load(SAVE_PATH / '20201125_000'))\n",
        "model.eval()\n",
        "torch.no_grad()"
      ],
      "execution_count": 42,
      "outputs": [
        {
          "output_type": "execute_result",
          "data": {
            "text/plain": [
              "<torch.autograd.grad_mode.no_grad at 0x7f2131413dd8>"
            ]
          },
          "metadata": {
            "tags": []
          },
          "execution_count": 42
        }
      ]
    },
    {
      "cell_type": "code",
      "metadata": {
        "id": "QDWKitK1Gva3"
      },
      "source": [
        "import matplotlib.pyplot as plt"
      ],
      "execution_count": 11,
      "outputs": []
    },
    {
      "cell_type": "code",
      "metadata": {
        "id": "QbjBgkiSIhOB"
      },
      "source": [
        "number_lookup = {}\n",
        "for batch in trainer.test_loader:\n",
        "    images = batch[0]\n",
        "    keys = batch[1]\n",
        "    for key, image in zip(keys, images):\n",
        "        if key not in number_lookup:\n",
        "            number_lookup[int(key)] = []\n",
        "        number_lookup[int(key)].append(image)"
      ],
      "execution_count": 12,
      "outputs": []
    },
    {
      "cell_type": "code",
      "metadata": {
        "colab": {
          "base_uri": "https://localhost:8080/",
          "height": 282
        },
        "id": "jN-x_vVhHjq2",
        "outputId": "fe4c8014-b093-4b36-95c0-ae052935ac14"
      },
      "source": [
        "plt.imshow(number_lookup[0][0][0])"
      ],
      "execution_count": 16,
      "outputs": [
        {
          "output_type": "execute_result",
          "data": {
            "text/plain": [
              "<matplotlib.image.AxesImage at 0x7f2144c63438>"
            ]
          },
          "metadata": {
            "tags": []
          },
          "execution_count": 16
        },
        {
          "output_type": "display_data",
          "data": {
            "image/png": "[encoded data removed]",
            "text/plain": [
              "<Figure size 432x288 with 1 Axes>"
            ]
          },
          "metadata": {
            "tags": [],
            "needs_background": "light"
          }
        }
      ]
    },
    {
      "cell_type": "markdown",
      "metadata": {
        "id": "aZRCOECB_UrA"
      },
      "source": [
        "We will use a k-NN classifier with k set to n to find the most similar digit"
      ]
    },
    {
      "cell_type": "code",
      "metadata": {
        "id": "OYB0ij0IHyk9"
      },
      "source": [
        "from sklearn.neighbors import KNeighborsClassifier"
      ],
      "execution_count": 17,
      "outputs": []
    },
    {
      "cell_type": "markdown",
      "metadata": {
        "id": "FrUksj9G_hbH"
      },
      "source": [
        "First we create lists of the encoded vectors and the correct results"
      ]
    },
    {
      "cell_type": "code",
      "metadata": {
        "id": "N3nVITFYrvoA"
      },
      "source": [
        "device = torch.device(\"cuda\" if torch.cuda.is_available() else \"cpu\")\n",
        "X = {\n",
        "    'train': [],\n",
        "     'test': []\n",
        "}\n",
        "y = {\n",
        "    'train': [],\n",
        "     'test': []\n",
        "}\n",
        "for batch in trainer.test_loader:\n",
        "    images = batch[0]\n",
        "    keys = batch[1]\n",
        "    for key, image in zip(keys, images):\n",
        "        features = image.view(EMBEDDING_SIZE).to(device)\n",
        "        code = model.encode(features)\n",
        "        X['test'].append(code.detach().numpy())\n",
        "        y['test'].append(int(key))\n",
        "for batch in trainer.train_loader:\n",
        "    images = batch[0]\n",
        "    keys = batch[1]\n",
        "    for key, image in zip(keys, images):\n",
        "        features = image.view(EMBEDDING_SIZE).to(device)\n",
        "        code = model.encode(features)\n",
        "        X['train'].append(code.detach().numpy())\n",
        "        y['train'].append(int(key))"
      ],
      "execution_count": 83,
      "outputs": []
    },
    {
      "cell_type": "code",
      "metadata": {
        "id": "uNSkvT0ErM5t"
      },
      "source": [
        "targeter = KNeighborsClassifier(n_neighbors=1)"
      ],
      "execution_count": 84,
      "outputs": []
    },
    {
      "cell_type": "markdown",
      "metadata": {
        "id": "0m0MHON2_rbn"
      },
      "source": [
        "We fit the kNN-classifier to the train set to check how well it generalises."
      ]
    },
    {
      "cell_type": "code",
      "metadata": {
        "colab": {
          "base_uri": "https://localhost:8080/"
        },
        "id": "YEz8gCQNrTv0",
        "outputId": "8bd027fe-2d9c-4a0b-bd3e-746d40020202"
      },
      "source": [
        "targeter.fit(X['train'], y['train'])"
      ],
      "execution_count": 85,
      "outputs": [
        {
          "output_type": "execute_result",
          "data": {
            "text/plain": [
              "KNeighborsClassifier(algorithm='auto', leaf_size=30, metric='minkowski',\n",
              "                     metric_params=None, n_jobs=None, n_neighbors=1, p=2,\n",
              "                     weights='uniform')"
            ]
          },
          "metadata": {
            "tags": []
          },
          "execution_count": 85
        }
      ]
    },
    {
      "cell_type": "code",
      "metadata": {
        "id": "YTA1bPiZwPyZ"
      },
      "source": [
        "y_pred = {}\n",
        "y_pred['train'] = [int(targeter.predict(x.reshape(1, -1))[0]) for x in X['train']]\n",
        "y_pred['test'] = [int(targeter.predict(x.reshape(1, -1))[0]) for x in X['test']]"
      ],
      "execution_count": 87,
      "outputs": []
    },
    {
      "cell_type": "code",
      "metadata": {
        "id": "emTqKPg7wrlE"
      },
      "source": [
        "from sklearn.metrics import classification_report"
      ],
      "execution_count": 88,
      "outputs": []
    },
    {
      "cell_type": "code",
      "metadata": {
        "colab": {
          "base_uri": "https://localhost:8080/"
        },
        "id": "_aunYUj_w23s",
        "outputId": "59f2ba8f-c731-47c3-a19b-97dd8f450c8f"
      },
      "source": [
        "print(classification_report(y['train'], y_pred['train']))"
      ],
      "execution_count": 89,
      "outputs": [
        {
          "output_type": "stream",
          "text": [
            "              precision    recall  f1-score   support\n",
            "\n",
            "           0       1.00      1.00      1.00      5923\n",
            "           1       1.00      1.00      1.00      6742\n",
            "           2       1.00      1.00      1.00      5958\n",
            "           3       1.00      1.00      1.00      6131\n",
            "           4       1.00      1.00      1.00      5842\n",
            "           5       1.00      1.00      1.00      5421\n",
            "           6       1.00      1.00      1.00      5918\n",
            "           7       1.00      1.00      1.00      6265\n",
            "           8       1.00      1.00      1.00      5851\n",
            "           9       1.00      1.00      1.00      5949\n",
            "\n",
            "    accuracy                           1.00     60000\n",
            "   macro avg       1.00      1.00      1.00     60000\n",
            "weighted avg       1.00      1.00      1.00     60000\n",
            "\n"
          ],
          "name": "stdout"
        }
      ]
    },
    {
      "cell_type": "code",
      "metadata": {
        "colab": {
          "base_uri": "https://localhost:8080/"
        },
        "id": "5qUZFZCDw4dw",
        "outputId": "4cd50f89-8943-4110-a1f5-9512c0961524"
      },
      "source": [
        "print(classification_report(y['test'], y_pred['test']))"
      ],
      "execution_count": 90,
      "outputs": [
        {
          "output_type": "stream",
          "text": [
            "              precision    recall  f1-score   support\n",
            "\n",
            "           0       0.96      0.99      0.98       980\n",
            "           1       0.96      0.99      0.98      1135\n",
            "           2       0.98      0.96      0.97      1032\n",
            "           3       0.95      0.95      0.95      1010\n",
            "           4       0.97      0.95      0.96       982\n",
            "           5       0.95      0.96      0.95       892\n",
            "           6       0.97      0.98      0.98       958\n",
            "           7       0.94      0.96      0.95      1028\n",
            "           8       0.98      0.92      0.95       974\n",
            "           9       0.95      0.94      0.94      1009\n",
            "\n",
            "    accuracy                           0.96     10000\n",
            "   macro avg       0.96      0.96      0.96     10000\n",
            "weighted avg       0.96      0.96      0.96     10000\n",
            "\n"
          ],
          "name": "stdout"
        }
      ]
    },
    {
      "cell_type": "markdown",
      "metadata": {
        "id": "8LP5Sq9C_1eh"
      },
      "source": [
        "Scores of 96% seem surprisingly low. We should be able to get higher scores for this.\n",
        "\n",
        "SOTA is 99.84% accuracy as of November 2020. 96% might be a good first attempt and adjusting the Autoencoder should push us higher."
      ]
    },
    {
      "cell_type": "markdown",
      "metadata": {
        "id": "PhVDRyH6An2F"
      },
      "source": [
        "Time to take a look at the incorrete classifications."
      ]
    },
    {
      "cell_type": "code",
      "metadata": {
        "id": "mxXPsk8t31V1"
      },
      "source": [
        "images = {\n",
        "    'test': []\n",
        "}\n",
        "for batch in trainer.test_loader:\n",
        "    batch_images = batch[0]\n",
        "    keys = batch[1]\n",
        "    for key, image in zip(keys, batch_images):\n",
        "        images['test'].append(image[0])"
      ],
      "execution_count": 111,
      "outputs": []
    },
    {
      "cell_type": "code",
      "metadata": {
        "id": "kuMsKrNqyUje"
      },
      "source": [
        "incorrect_classifications = [i for i in range(len(y['test'])) if y['test'][i] != y_pred['test'][i]]"
      ],
      "execution_count": 102,
      "outputs": []
    },
    {
      "cell_type": "code",
      "metadata": {
        "colab": {
          "base_uri": "https://localhost:8080/"
        },
        "id": "DFARWlB73dnm",
        "outputId": "e267cfd6-6d2c-4da6-da97-fda452f8d35e"
      },
      "source": [
        "len(incorrect_classifications)"
      ],
      "execution_count": 103,
      "outputs": [
        {
          "output_type": "execute_result",
          "data": {
            "text/plain": [
              "398"
            ]
          },
          "metadata": {
            "tags": []
          },
          "execution_count": 103
        }
      ]
    },
    {
      "cell_type": "code",
      "metadata": {
        "colab": {
          "base_uri": "https://localhost:8080/",
          "height": 546
        },
        "id": "AQtQfT2U3lzO",
        "outputId": "aad2b823-0bf7-4adc-b5f2-48f068adbed8"
      },
      "source": [
        "for i, incorrect_classification in enumerate(incorrect_classifications[:16]):\n",
        "    plt.subplot(4, 4, i + 1)\n",
        "    plt.imshow(images['test'][incorrect_classification])\n",
        "for incorrect_classification in incorrect_classifications[:16]:\n",
        "    print(f'Actual: {y[\"test\"][incorrect_classification]}, predicted: {y_pred[\"test\"][incorrect_classification]}')"
      ],
      "execution_count": 119,
      "outputs": [
        {
          "output_type": "stream",
          "text": [
            "Actual: 2, predicted: 1\n",
            "Actual: 9, predicted: 4\n",
            "Actual: 4, predicted: 9\n",
            "Actual: 3, predicted: 5\n",
            "Actual: 9, predicted: 8\n",
            "Actual: 4, predicted: 6\n",
            "Actual: 8, predicted: 0\n",
            "Actual: 8, predicted: 3\n",
            "Actual: 4, predicted: 1\n",
            "Actual: 2, predicted: 0\n",
            "Actual: 9, predicted: 7\n",
            "Actual: 2, predicted: 7\n",
            "Actual: 3, predicted: 8\n",
            "Actual: 6, predicted: 4\n",
            "Actual: 7, predicted: 4\n",
            "Actual: 4, predicted: 9\n"
          ],
          "name": "stdout"
        },
        {
          "output_type": "display_data",
          "data": {
            "image/png": "[encoded data removed]",
            "text/plain": [
              "<Figure size 432x288 with 16 Axes>"
            ]
          },
          "metadata": {
            "tags": [],
            "needs_background": "light"
          }
        }
      ]
    },
    {
      "cell_type": "markdown",
      "metadata": {
        "id": "TasxtKydBFKU"
      },
      "source": [
        "Once again, those misclassifications seem odd. Most of these should be simple."
      ]
    },
    {
      "cell_type": "code",
      "metadata": {
        "id": "8ffvNMd0BXMe"
      },
      "source": [
        ""
      ],
      "execution_count": null,
      "outputs": []
    }
  ]
}