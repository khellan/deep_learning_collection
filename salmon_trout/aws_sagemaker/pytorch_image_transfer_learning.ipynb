{
 "cells": [
  {
   "cell_type": "markdown",
   "metadata": {},
   "source": [
    "# Preparation\n",
    "\n",
    "Download the [ants and bees imageset](https://download.pytorch.org/tutorial/hymenoptera_data.zip) and deploy it to the S3 bucket you see below."
   ]
  },
  {
   "cell_type": "code",
   "execution_count": null,
   "metadata": {},
   "outputs": [],
   "source": [
    "!pip install --upgrade sagemaker"
   ]
  },
  {
   "cell_type": "code",
   "execution_count": null,
   "metadata": {},
   "outputs": [],
   "source": [
    "%%time\n",
    "import sagemaker\n",
    "from sagemaker import get_execution_role\n",
    "from sagemaker.pytorch import PyTorch\n",
    "\n",
    "role = get_execution_role()\n",
    "user_id = role.split(':')[4]\n",
    "\n",
    "sess = sagemaker.Session()\n",
    "bucket = f'sagemaker-{sess.boto_region_name}-{user_id}'\n",
    "print(f'Bucket for images is {bucket}')\n",
    "prefix = 'salmon_trout'\n",
    "s3_prefix = 'salmon_trout/data'\n",
    "s3_validate_prefix = f'{s3_prefix}/val'"
   ]
  },
  {
   "cell_type": "code",
   "execution_count": null,
   "metadata": {},
   "outputs": [],
   "source": [
    "pytorch_estimator = PyTorch('../train.py',\n",
    "                            instance_type='ml.p3.2xlarge',\n",
    "                            instance_count=1,\n",
    "                            framework_version='1.6.0',\n",
    "                            py_version='py3',\n",
    "                            role=role,\n",
    "                            hyperparameters = {\n",
    "                                'epochs': 25,\n",
    "                                'learning-rate': 0.001,\n",
    "                                'gamma': 0.1,\n",
    "                                'momentum': 0.9,\n",
    "                                'step-size': 7,\n",
    "                                'action': 'final_layer'\n",
    "                            })\n",
    "pytorch_estimator.fit({'training': f's3://{bucket}/{s3_prefix}'})"
   ]
  },
  {
   "cell_type": "code",
   "execution_count": null,
   "metadata": {},
   "outputs": [],
   "source": [
    "classifier = pytorch_estimator.deploy(initial_instance_count = 1, instance_type = 'ml.m5.xlarge', serializer=sagemaker.serializers.IdentitySerializer())"
   ]
  },
  {
   "cell_type": "code",
   "execution_count": null,
   "metadata": {},
   "outputs": [],
   "source": [
    "import boto3\n",
    "import json\n",
    "import numpy as np\n",
    "def classify(bucket, image_path):\n",
    "    s3 = boto3.resource('s3')\n",
    "    object = s3.Object(bucket, image_path)\n",
    "    payload = object.get()['Body'].read()\n",
    "    result = classifier.predict(payload, initial_args={'ContentType': 'application/x-image'})[0]\n",
    "    index = np.argmax(result)\n",
    "    object_categories = ['salmon', 'trout']\n",
    "    #print(\"Result: label - \" + object_categories[index] + \", probability - \" + str(result[index]))\n",
    "    return object_categories[index], result[index]"
   ]
  },
  {
   "cell_type": "code",
   "execution_count": null,
   "metadata": {},
   "outputs": [],
   "source": [
    "result = classify(bucket, f'{s3_validate_prefix}/salmon/aug_3.jpg')\n",
    "result"
   ]
  },
  {
   "cell_type": "code",
   "execution_count": null,
   "metadata": {},
   "outputs": [],
   "source": [
    "class BucketPaginator:\n",
    "    def __init__(self, bucket, prefix):\n",
    "        self.bucket = bucket\n",
    "        self.prefix = prefix\n",
    "        self.client = boto3.client('s3')\n",
    "        self.first = True\n",
    "        self.continuation_token = None\n",
    "    \n",
    "    def list_objects(self):\n",
    "        if not self.first and not self.continuation_token:\n",
    "            return []\n",
    "        self.first = False\n",
    "        if self.continuation_token:\n",
    "            response = self.client.list_objects_v2(Bucket=self.bucket, Prefix=self.prefix, ContinuationToken=self.continuation_token)\n",
    "        else:\n",
    "            response = self.client.list_objects_v2(Bucket=self.bucket, Prefix=self.prefix)\n",
    "        if 'NextContinuationToken' in response:\n",
    "            self.continuation_token = r['NextContinuationToken']\n",
    "        else:\n",
    "            self.continuation_token = None\n",
    "        keys = [item['Key'] for item in response['Contents']]\n",
    "        return keys"
   ]
  },
  {
   "cell_type": "code",
   "execution_count": null,
   "metadata": {},
   "outputs": [],
   "source": [
    "def find_errors(bucket, prefix, expected):\n",
    "    paginator = BucketPaginator(bucket, f'{prefix}/{expected}')\n",
    "    keys = paginator.list_objects()\n",
    "    errors = []\n",
    "    for key in keys:\n",
    "        actual = classify(bucket, f'{key}')[0]\n",
    "        if actual != expected:\n",
    "            errors.append((key, actual))\n",
    "    return errors"
   ]
  },
  {
   "cell_type": "code",
   "execution_count": null,
   "metadata": {},
   "outputs": [],
   "source": [
    "salmon_errors = find_errors(bucket, s3_validate_prefix, 'salmon')"
   ]
  },
  {
   "cell_type": "code",
   "execution_count": null,
   "metadata": {},
   "outputs": [],
   "source": [
    "trout_errors = find_errors(bucket, s3_validate_prefix, 'trout')"
   ]
  },
  {
   "cell_type": "code",
   "execution_count": null,
   "metadata": {},
   "outputs": [],
   "source": [
    "len(salmon_errors)"
   ]
  },
  {
   "cell_type": "code",
   "execution_count": null,
   "metadata": {},
   "outputs": [],
   "source": [
    "len(trout_errors)"
   ]
  },
  {
   "cell_type": "code",
   "execution_count": null,
   "metadata": {},
   "outputs": [],
   "source": [
    "trout_errors"
   ]
  },
  {
   "cell_type": "code",
   "execution_count": null,
   "metadata": {},
   "outputs": [],
   "source": [
    "import matplotlib.pyplot as plt\n",
    "from matplotlib import style\n",
    "from PIL import Image\n",
    "import io\n",
    "s3 = boto3.resource('s3')\n",
    "style.use('dark_background')"
   ]
  },
  {
   "cell_type": "code",
   "execution_count": null,
   "metadata": {},
   "outputs": [],
   "source": [
    "%matplotlib inline\n",
    "def show_image(key, caption=''):\n",
    "    object = s3.Object(bucket, key)\n",
    "    image = Image.open(io.BytesIO(object.get()['Body'].read()))\n",
    "    plt.axis('off')\n",
    "    plt.imshow(np.asarray(image))"
   ]
  },
  {
   "cell_type": "code",
   "execution_count": null,
   "metadata": {},
   "outputs": [],
   "source": [
    "def show_images(keys, caption=''):\n",
    "    print(caption)\n",
    "    figure = plt.figure(figsize=(24,24))\n",
    "    for i, key in enumerate(keys):\n",
    "        figure.add_subplot(4, 4, i + 1)\n",
    "        show_image(key)\n",
    "    plt.show()"
   ]
  },
  {
   "cell_type": "code",
   "execution_count": null,
   "metadata": {},
   "outputs": [],
   "source": [
    "show_images([item[0] for item in trout_errors], 'Feilklassifisert ørret')"
   ]
  },
  {
   "cell_type": "code",
   "execution_count": null,
   "metadata": {},
   "outputs": [],
   "source": [
    "show_images([item[0] for item in salmon_errors], 'Feilklassifisert laks')"
   ]
  },
  {
   "cell_type": "code",
   "execution_count": null,
   "metadata": {},
   "outputs": [],
   "source": [
    "if True:\n",
    "    classifier.delete_endpoint()\n",
    "    classifier.delete_model()"
   ]
  },
  {
   "cell_type": "code",
   "execution_count": null,
   "metadata": {},
   "outputs": [],
   "source": []
  }
 ],
 "metadata": {
  "instance_type": "ml.t3.medium",
  "kernelspec": {
   "display_name": "Python 3 (PyTorch CPU Optimized)",
   "language": "python",
   "name": "python3__SAGEMAKER_INTERNAL__arn:aws:sagemaker:eu-west-1:470317259841:image/pytorch-1.4-cpu-py36"
  },
  "language_info": {
   "codemirror_mode": {
    "name": "ipython",
    "version": 3
   },
   "file_extension": ".py",
   "mimetype": "text/x-python",
   "name": "python",
   "nbconvert_exporter": "python",
   "pygments_lexer": "ipython3",
   "version": "3.6.6"
  }
 },
 "nbformat": 4,
 "nbformat_minor": 4
}